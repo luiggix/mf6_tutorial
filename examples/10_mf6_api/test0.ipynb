{
 "cells": [
  {
   "cell_type": "markdown",
   "id": "bb8297b2-54ae-4c03-bc5f-96a3a71642b0",
   "metadata": {},
   "source": [
    "# MODFLOW 6 : ejemplo simple en 1D.\n",
    "\n",
    "# Resumen.\n",
    "\n",
    "<p xmlns:cc=\"http://creativecommons.org/ns#\" xmlns:dct=\"http://purl.org/dc/terms/\"><a property=\"dct:title\" rel=\"cc:attributionURL\" href=\"https://github.com/luiggix/mf6_tutorial/\">MODFLOW 6: tutorial</a> by <b>Luis M. de la Cruz Salas (2025)</b> is licensed under <a href=\"http://creativecommons.org/licenses/by-sa/4.0/?ref=chooser-v1\" target=\"_blank\" rel=\"license noopener noreferrer\" style=\"display:inline-block;\">Attribution-ShareAlike 4.0 International<img style=\"height:22px!important;margin-left:3px;vertical-align:text-bottom;\" src=\"https://mirrors.creativecommons.org/presskit/icons/cc.svg?ref=chooser-v1\"><img style=\"height:22px!important;margin-left:3px;vertical-align:text-bottom;\" src=\"https://mirrors.creativecommons.org/presskit/icons/by.svg?ref=chooser-v1\"><img style=\"height:22px!important;margin-left:3px;vertical-align:text-bottom;\" src=\"https://mirrors.creativecommons.org/presskit/icons/sa.svg?ref=chooser-v1\"></a>.</p> "
   ]
  },
  {
   "cell_type": "markdown",
   "id": "c4cf48dc-77f4-4f74-8b89-f742fde82315",
   "metadata": {},
   "source": [
    "<div class=\"alert alert-block alert-success\">\n",
    "\n",
    "## Ejemplo.\n",
    "\n",
    "Resolver el flujo en un dominio unidimensional, estacionario, con condiciones de frontera tipo Dirichlet y parámetros de flujo constantes.\n",
    "\n",
    "</div>"
   ]
  },
  {
   "cell_type": "code",
   "execution_count": 1,
   "id": "f0625030-9314-421d-8e1b-921d76d7dcc7",
   "metadata": {},
   "outputs": [
    {
     "name": "stdin",
     "output_type": "stream",
     "text": [
      "ncol =  5\n"
     ]
    },
    {
     "data": {
      "image/png": "[encoded data removed]",
      "text/plain": [
       "<Figure size 600x300 with 3 Axes>"
      ]
     },
     "metadata": {},
     "output_type": "display_data"
    }
   ],
   "source": [
    "import numpy as np\n",
    "import matplotlib.pyplot as plt\n",
    "import os, sys\n",
    "import flopy # Pre y post procesamiento\n",
    "import xmf6 # Funcionalidades auxiliares\n",
    "\n",
    "# --- Componentes ---\n",
    "\n",
    "# Parámetros de la simulación (flopy.mf6.MFSimulation)\n",
    "init = {\n",
    "    'sim_name' : \"flow\",\n",
    "    'exe_name' : \"C:\\\\Users\\\\luiggi\\\\Documents\\\\GitSites\\\\mf6_tutorial\\\\mf6\\\\windows\\\\mf6\",\n",
    "#    'exe_name' : \"../../mf6/macosarm/mf6\",\n",
    "    'sim_ws' : \"sandbox0\"\n",
    "}\n",
    "\n",
    "# Parámetros para el tiempo (flopy.mf6.ModflowTdis)\n",
    "tdis = {\n",
    "    'units': \"DAYS\",\n",
    "    'nper' : 1,\n",
    "    'perioddata': [(1.0, 1, 1.0)]\n",
    "}\n",
    "\n",
    "# Parámetros para la solución numérica (flopy.mf6.ModflowIms)\n",
    "ims = {}\n",
    "\n",
    "# Parámetros para el modelo de flujo (flopy.mf6.ModflowGwf)\n",
    "gwf = { \n",
    "    'modelname': init[\"sim_name\"],\n",
    "    'model_nam_file': f\"{init[\"sim_name\"]}.nam\",\n",
    "    'save_flows': True\n",
    "}\n",
    "\n",
    "# --- Paquetes del modelo de flujo ---\n",
    "lx = 25\n",
    "ncol = int(input(\"ncol = \"))\n",
    "delr = lx / ncol \n",
    "# Parámetros para la discretización espacial (flopy.mf6.ModflowGwfdis)\n",
    "dis = {\n",
    "    'length_units': \"meters\",\n",
    "    'nlay': 1, \n",
    "    'nrow': 1, \n",
    "    'ncol': ncol,\n",
    "    'delr': delr, \n",
    "    'delc': 1.0, \n",
    "    'top' : 1.0, \n",
    "    'botm': 0.0 \n",
    "}\n",
    "\n",
    "# Parámetros para las condiciones iniciales (flopy.mf6.ModflowGwfic)\n",
    "ic = {\n",
    "    'strt': 1.0\n",
    "}\n",
    "\n",
    "# Parámetros para las condiciones de frontera (flopy.mf6.ModflowGwfchd)\n",
    "chd_data = []\n",
    "for row in range(dis['nrow']):\n",
    "    chd_data.append([(0, row, 0), 10.0])       # Condición en la pared izquierda\n",
    "    chd_data.append([(0, row, dis['ncol'] - 1), 5.0]) # Condición en la pared derecha\n",
    "\n",
    "chd = {\n",
    "    'stress_period_data': chd_data,     \n",
    "}\n",
    "\n",
    "# Parámetros para las propiedades de flujo (flopy.mf6.ModflowGwfnpf)\n",
    "npf = {\n",
    "    'save_specific_discharge': True,\n",
    "    'save_saturation' : True,\n",
    "    'icelltype' : 0,\n",
    "    'k' : 0.01,\n",
    "}\n",
    "\n",
    "# Parámetros para almacenar y mostrar la salida de la simulación (flopy.mf6.ModflowGwfoc)\n",
    "oc = {\n",
    "    'budget_filerecord': f\"{init['sim_name']}.bud\",\n",
    "    'head_filerecord': f\"{init['sim_name']}.hds\",\n",
    "    'saverecord': [(\"HEAD\", \"ALL\"), (\"BUDGET\", \"ALL\")],\n",
    "    'printrecord': [(\"HEAD\", \"ALL\")]\n",
    "}\n",
    "\n",
    "# Inicialización de la simulación\n",
    "o_sim = xmf6.common.init_sim(init = init, tdis = tdis, ims = ims, silent = True)\n",
    "\n",
    "# Configuración de los paquetes para el modelo de flujo\n",
    "o_gwf, package = xmf6.gwf.set_packages(o_sim, silent = True,\n",
    "                                       gwf = gwf, dis = dis, ic = ic, chd = chd, npf = npf, oc = oc)\n",
    "\n",
    "# Escritura de los archivos de entrada\n",
    "o_sim.write_simulation(silent = True)\n",
    "\n",
    "# Ejecutamos la simulación\n",
    "o_sim.run_simulation(silent = True)\n",
    "\n",
    "# --- Recuperamos los resultados de la simulación ---\n",
    "head = xmf6.gwf.get_head(o_gwf)\n",
    "\n",
    "# --- Parámetros para las gráficas ---\n",
    "grid = o_gwf.modelgrid\n",
    "x, y, z = grid.xyzcellcenters\n",
    "hvmin = np.nanmin(head)\n",
    "hvmax = np.nanmax(head)\n",
    "xticks = x[0]\n",
    "yticks = np.linspace(hvmin, hvmax, 3)\n",
    "xlabels = [f'{x:1.1f}' for x in x[0]]\n",
    "ylabels = [f'{y:1.1f}' for y in yticks]\n",
    "\n",
    "# --- Definición de la figura ---\n",
    "fig, (ax1, ax2) = plt.subplots(2, 1, figsize =(6,3))\n",
    "\n",
    "# --- Gráfica 1. ---\n",
    "ax1.plot(x[0], head[0][0], \"o-\", label=\"'flow.hds'\", zorder=5)\n",
    "ax1.set_xlabel(\"$x$(m)\", fontsize=8)\n",
    "ax1.set_ylabel(\"$h$ (m)\", fontsize = 8)\n",
    "ax1.set_xticks(ticks = xticks, labels = xlabels, fontsize=8)\n",
    "ax1.set_yticks(ticks = yticks, labels = ylabels, fontsize = 8)\n",
    "ax1.set_ylim(4,12)\n",
    "ax1.set_xlim(0,25)\n",
    "ax1.grid()\n",
    "\n",
    "# --- Gráfica 2. ---\n",
    "hview = flopy.plot.PlotMapView(model = o_gwf, ax = ax2)\n",
    "hview.plot_grid(linewidths = 0.5, alpha = 0.5)\n",
    "h_ac = hview.plot_array(head, cmap = \"YlGnBu\", vmin = hvmin, vmax = hvmax, alpha = 0.75)\n",
    "h_cb = plt.colorbar(h_ac, ax = ax2, label = \"$h$ (m)\", cax = xmf6.vis.cax(ax2, h_ac))\n",
    "h_cb.ax.tick_params(labelsize=6)\n",
    "ax2.set_ylabel(\"$y$ (m)\", fontsize = 8)\n",
    "ax2.set_xlabel(\"$x$ (m)\", fontsize = 8)\n",
    "ax2.set_aspect('equal')\n",
    "\n",
    "plt.grid(zorder=0, lw=0.5)\n",
    "plt.tight_layout()\n",
    "plt.show()"
   ]
  },
  {
   "cell_type": "markdown",
   "id": "8469ce2e-348e-4e1b-b3b4-e7458e8f2a58",
   "metadata": {},
   "source": [
    "# Un vistazo a la API"
   ]
  },
  {
   "cell_type": "code",
   "execution_count": 2,
   "id": "8540323b-194d-47be-8305-0d71a5386781",
   "metadata": {},
   "outputs": [],
   "source": [
    "from modflowapi import ModflowApi # La API"
   ]
  },
  {
   "cell_type": "code",
   "execution_count": 3,
   "id": "c369c75b-0a3c-4b61-937b-00d58d91569d",
   "metadata": {},
   "outputs": [
    {
     "name": "stdout",
     "output_type": "stream",
     "text": [
      "Shared library: C:\\Users\\luiggi\\Documents\\GitSites\\mf6_tutorial\\mf6\\windows\\libmf6.dll\n",
      "Config file: C:\\Users\\luiggi\\Documents\\GitSites\\mf6_tutorial\\examples\\10_mf6_api\\sandbox0\\mfsim.nam\n"
     ]
    }
   ],
   "source": [
    "# Rutas a la biblioteca compartida y al archivo de configuración\n",
    "mf6_lib_path = os.path.abspath(os.path.join(\"..\", \"..\", \"mf6\", \"windows\", \"libmf6.dll\"))\n",
    "mf6_config_file = os.path.join(o_sim.sim_path, 'mfsim.nam')\n",
    "print(\"Shared library:\", mf6_lib_path)\n",
    "print(\"Config file:\", mf6_config_file)"
   ]
  },
  {
   "cell_type": "code",
   "execution_count": 4,
   "id": "f8aed040-54b7-450e-b7ef-ac2c35581d9a",
   "metadata": {},
   "outputs": [],
   "source": [
    "# Objeto para acceder a toda la funcionalidad de la API\n",
    "mf6 = ModflowApi(mf6_lib_path, working_directory=o_sim.sim_path)\n",
    "\n",
    "# Inicialización del modelo\n",
    "mf6.initialize(mf6_config_file)"
   ]
  },
  {
   "cell_type": "code",
   "execution_count": 5,
   "id": "828ba25d-3f7d-4e1b-8953-a944a9329b5e",
   "metadata": {},
   "outputs": [
    {
     "name": "stdout",
     "output_type": "stream",
     "text": [
      "MF6 Input var names : ('FLOW/DIS/XC', 'SLN_1/NCOL', 'FLOW/CHD_0/IOUT', 'SLN_1/IMSLINEAR/ID', 'FLOW/CON/JA', 'TDIS/PERTIMSAV', 'SLN_1/IMSLINEAR/WLU', 'FLOW/DIS/NDIM', 'FLOW/CHD_0/INEWTON', 'SLN_1/IMSLINEAR/IW', 'SLN_1/IMSLINEAR/ARO', 'TDIS/TOPERTIM', 'FLOW/DIS/NODESUSER', 'FLOW/DIS/YC', 'FLOW/IPRFLOW', 'FLOW/NPF/SAT', '__INPUT__/SIM/NAM/TDIS6', 'SLN_1/IMSLINEAR/JAPC', 'FLOW/STO/INUNIT', 'SLN_1/IMSLINEAR/NJAPC', 'FLOW/INOBS', 'FLOW/CHD_0/ISADVPAK', 'FLOW/BUY/DENSEREF', 'FLOW/STO/PACKAGE_TYPE', 'FLOW/CHD_0/NPAKEQ', 'SLN_1/BIGCHOLD', 'FLOW/NPF/PACKAGE_TYPE', 'FLOW/NPF/K33INPUT', 'SLN_1/MATRIX_OFFSET', 'FLOW/CON/HWVA', 'SLN_1/IMSLINEAR/JW', 'FLOW/CSUB/IOUTZDISP', 'TDIS/ENDOFSIMULATION', '__INPUT__/FLOW/CHD_0/INPUT_FNAME', 'SLN_1/AMOMENTUM', 'FLOW/GNC/IONPER', 'FLOW/GNC/IMPLICIT', 'FLOW/DIS/NOGRB', 'SLN_1/CONVNMOD', '__INPUT__/FLOW/NETCDF_GRID', 'FLOW/DIS/INUNIT', 'FLOW/HFB/IONPER', 'FLOW/GNC/SMGNC', 'TDIS/TOTIMSAV', 'FLOW/XT3D/LAMATSAVED', 'FLOW/GNC/IPRPAK', 'FLOW/NPF/EDGEIDXS', 'FLOW/HFB/ID', 'FLOW/MOFFSET', 'FLOW/HFB/IPRPAK', 'FLOW/IOUT', 'FLOW/NPF/ITHICKSTRT', '__INPUT__/SIM/NAM/PRPROF', 'FLOW/CSUB/EPSILON', 'FLOW/VSC/INEWTON', 'SLN_1/IMSLINEAR/JARO', 'FLOW/IC/IPRFLOW', 'FLOW/MVR/INUNIT', 'SLN_1/ISYMMETRIC', 'SLN_1/IMSLINEAR/LEVEL', 'FLOW/INBUY', 'FLOW/BUY/IASYM', 'SLN_1/ITERTOT_TIMESTEP', 'FLOW/CSUB/IPCH', 'FLOW/HFB/INPUT_FNAME', 'FLOW/STO/INTVS', 'FLOW/CHD_0/NCOLBND', 'SLN_1/DVCLOSE', 'FLOW/CSUB/BRG', 'SLN_1/IMSLINEAR/ISCL', 'FLOW/BUY/IOUT', '__INPUT__/FLOW/CHD_0/NCPL', 'FLOW/CON/ISYM', 'FLOW/CHD_0/CELLID', '__INPUT__/SIM/NAM/HPC6_FILENAME', 'SLN_1/HCHOLD', 'FLOW/CSUB/ISCLOC', '__INPUT__/FLOW/CHD_0/IPER', 'FLOW/DIS/ANGROT', 'SLN_1/IMSLINEAR/QHAT', '__INPUT__/SIM/NAM/PRINT_INPUT', 'FLOW/GNC/ID', 'SLN_1/MXITER', 'SLN_1/ATSFRAC', 'FLOW/GNC/IPAKCB', 'TDIS/PERTIM', 'FLOW/GNC/IOUT', '__INPUT__/SIM/NAM/SLNTYPE', 'FLOW/NPF/INTVK', 'FLOW/MVR/IBUDCSV', 'FLOW/HFB/NHFB', 'FLOW/MVR/INPUT_FNAME', 'FLOW/HFB/IPAKCB', 'SLN_1/PTCDEL0', 'FLOW/CSUB/LHEAD_BASED', '__INPUT__/SIM/NUMEXCHANGES', 'FLOW/NPF/LASTONPER', 'FLOW/DIS/MSHAPE', 'FLOW/CSUB/INEWTON', 'FLOW/CHD_0/NBOUND', 'SLN_1/IOUTTOT_TIMESTEP', 'FLOW/CHD_0/SIMVALS', 'SLN_1/IMSLINEAR/ITER1', '__INPUT__/FLOW/DIS/BOTM', 'FLOW/CSUB/INAMEDBOUND', 'FLOW/HFB/PACKAGE_TYPE', 'FLOW/CSUB/LISTLABEL', 'FLOW/CHD_0/NOUPDATEAUXVAR', 'SLN_1/IMSLINEAR/ILINMETH', 'FLOW/CHD_0/IAUXMULTCOL', 'FLOW/NPF/IANGLE1', 'FLOW/NPF/IANGLE2', 'FLOW/NPF/IANGLE3', 'FLOW/CSUB/IOUTCOMPE', 'FLOW/NPF/SPDIS', '__INPUT__/FLOW/IC/STRT', 'FLOW/CSUB/IOUTCOMPI', 'FLOW/CSUB/GWFISS0', 'SLN_1/IMSLINEAR/IAPC', 'SLN_1/IMSLINEAR/NIAPC', 'FLOW/IC/INPUT_FNAME', 'FLOW/STO/INTEGRATECHANGES', '__INPUT__/FLOW/MEMPATHS', 'FLOW/CSUB/IOUTCOMPS', 'FLOW/X', 'FLOW/CSUB/ISTRAINSK', 'TMPSLN_1/DRMAX', 'FLOW/CSUB/NDELAYCELLS', '__INPUT__/FLOW/NPF/ISAVSAT', 'SLN_1/HNCG', 'FLOW/BUY/IFORM', 'FLOW/HFB/IOUT', 'FLOW/CSUB/BETA', 'FLOW/NPF/IONPER', 'SLN_1/IMSLINEAR/NITERC', 'FLOW/NPF/IK22OVERK', 'FLOW/HFB/IPRFLOW', 'FLOW/VSC/IASYM', 'FLOW/CHD_0/IBCNUM', 'FLOW/NPF/IWETIT', 'SLN_1/INNERTOT_SIM', 'FLOW/DIS/NCOL', 'FLOW/CHD_0/BOUNDNAME', '__INPUT__/SIM/TDIS/NSTP', 'FLOW/NPF/IPRPAK', 'FLOW/NPF/ICELLTYPE', 'FLOW/GNC/INPUT_FNAME', 'FLOW/IC/IASYM', 'FLOW/CHD_0/BOUNDNAME_CST', 'FLOW/VSC/VISCREF', 'FLOW/OC/IPEROC', 'FLOW/CHD_0/AUXNAME', 'FLOW/IDXGLO', '__INPUT__/FLOW/NAM/FNAME', 'FLOW/CHD_0/BOUND', 'FLOW/CSUB/IPAKCSV', 'FLOW/STO/INEWTON', 'SLN_1/IMSLINEAR/NJA', 'FLOW/GNC/INUNIT', 'FLOW/DIS/ICONDIR', 'SLN_1/IMSLINEAR/RELAX', 'SLN_1/IMSLINEAR/IARO', 'FLOW/ISS', '__INPUT__/FLOW/CHD_0/AUXILIARY', 'FLOW/NPF/IOUT', 'FLOW/INVSC', 'FLOW/HFB/INUNIT', 'FLOW/IC/ID', 'FLOW/VSC/NVISCSPECIES', 'FLOW/VSC/A2', 'FLOW/VSC/A3', 'FLOW/IC/IONPER', 'FLOW/VSC/A4', 'SLN_1/IMSLINEAR/NJW', 'FLOW/NPF/IPRFLOW', 'FLOW/XOLD', 'TMPSLN_1/CONVNMOD', 'FLOW/NPF/ID', 'FLOW/NPF/PROPSEDGE', 'FLOW/NPF/NREDGESNODE', 'FLOW/CSUB/IUPDATEMATPROP', '__INPUT__/FLOW/DISENUM', 'FLOW/ID', 'FLOW/IC/IOUT', 'FLOW/IC/IPRPAK', 'SIM/LOADMASK', 'SLN_1/IMSLINEAR/DVCLOSE', 'FLOW/NPF/IK22', 'FLOW/BUY/IONPER', 'FLOW/BUY/IREADCONCBUY', 'SLN_1/RES_PREV', 'SLN_1/IMSLINEAR/DSCALE', 'SLN_1/IMSLINEAR/ICNVGOPT', 'SLN_1/IMSLINEAR/PHAT', '__INPUT__/SIM/NAM/EXGMEMPATHS', 'FLOW/NPF/KCHANGEPER', 'FLOW/GNC/NUMJS', 'FLOW/BUY/IPRPAK', 'FLOW/STO/SATOMEGA', 'SLN_1/IMSLINEAR/DHAT', 'TDIS/ITMUNI', 'FLOW/CSUB/ID', 'FLOW/NPF/IPAKCB', 'FLOW/MVR/IASYM', 'FLOW/CSUB/SATOMEGA', 'TDIS/KSTP', '__INPUT__/FLOW/DIS/LENGTH_UNITS', 'SLN_1/L2NORM0', 'FLOW/NPF/ITHICKSTARTFLAG', 'FLOW/CSUB/NBOUND', 'SLN_1/IPTCOPT', 'TDIS/PERLEN', 'FLOW/NPF/IK33', 'FLOW/CHD_0/RATECHDIN', '__INPUT__/FLOW/NCELLDIM', 'FLOW/IC/STRT', 'FLOW/CSUB/INITIALIZED', '__INPUT__/SIM/NAM/MFNAME', 'FLOW/NPF/IDEWATCV', 'FLOW/CHD_0/IPRFLOW', '__INPUT__/FLOW/CHD_0/AUXVAR', 'FLOW/CSUB/IASYM', 'SLN_1/PTCDEL', '__INPUT__/FLOW/CHD_0/MAXBOUND', 'FLOW/CSUB/INOBSPKG', '__INPUT__/FLOW/NPF/INPUT_FNAME', 'SLN_1/X', 'FLOW/IPRPAK', 'FLOW/CHD_0/NODELIST', 'FLOW/VSC/IOUT', 'SLN_1/BTOL', 'FLOW/VSC/ICONCSET', 'FLOW/CSUB/ISTORAGEC', 'FLOW/OC/IBUDCSV', 'SLN_1/AMAT', 'FLOW/CSUB/IOUTCOMPIB', 'FLOW/IC/LASTONPER', 'FLOW/CHD_0/INAMEDBOUND', '__INPUT__/FLOW/CHD_0/NAUX', 'SLN_1/IMSLINEAR/EPFACT', 'FLOW/NPF/IAVGKEFF', 'SLN_1/IMSLINEAR/IACPC', 'FLOW/BUY/NRHOSPECIES', 'SLN_1/LRCH', 'FLOW/IC/IPAKCB', 'FLOW/CON/JAS', '__INPUT__/SIM/NAM/MAXERRORS', 'FLOW/NPF/ANGLE1', 'FLOW/NPF/IXT3D', 'FLOW/VSC/INPUT_FNAME', 'FLOW/CHD_0/IMOVER', 'FLOW/NPF/ANGLE2', 'FLOW/NPF/ANGLE3', 'FLOW/INHFB', 'FLOW/MVR/PACKAGE_TYPE', 'TDIS/TOTIM', 'FLOW/CSUB/NDELAYBEDS', 'FLOW/BUY/INEWTON', 'FLOW/XT3D/NBRMAX', 'FLOW/BUY/IPAKCB', 'FLOW/DIS/BOT', 'TDIS/ENDOFPERIOD', 'FLOW/CSUB/AUXNAME', 'FLOW/DIS/CELLX', 'FLOW/DIS/CELLY', 'FLOW/CHD_0/HCOF', 'FLOW/STO/ISTOR_COEF', '__INPUT__/FLOW/NAM/PNAME', 'FLOW/NPF/WETFCT', 'SIM/MODELRANKS', 'FLOW/STO/IASYM', 'SLN_1/CONVMODSTART', 'FLOW/CSUB/NAUX', 'TMPSLN_1/CONVDRMAX', 'FLOW/NPF/NODEDGE', 'FLOW/CHD_0/IONPER', 'FLOW/MACRONYM', 'SLN_1/IMSLINEAR/NWLU', 'FLOW/VSC/IPRFLOW', 'FLOW/CSUB/ISPECIFIED_PCS', 'FLOW/INSTO', 'FLOW/STO/IOUT', 'FLOW/NPF/IK33OVERK', 'FLOW/CSUB/MAXSIG0', 'FLOW/CHD_0/IPRPAK', 'FLOW/HFB/MAXHFB', 'SLN_1/NROW', 'FLOW/NPF/INUNIT', '__INPUT__/FLOW/NAM/FTYPE', 'FLOW/IPAKCB', 'FLOW/MVR/MAXPACKAGES', 'SLN_1/IMSLINEAR/IDFPARAM', '__INPUT__/SIM/NAM/SLNFNAME', 'FLOW/CHD_0/RHS', 'FLOW/XT3D/INUNIT', 'FLOW/HFB/LASTONPER', '__INPUT__/FLOW/DIS/NCOL', 'SLN_1/BIGCH', 'FLOW/NPF/ICALCSPDIS', 'FLOW/DIS/NODEUSER', 'FLOW/CHD_0/AUXVAR_IDM', 'FLOW/DIS/NLAY', 'FLOW/NPF/IASYM', 'FLOW/OC/IOCREP', 'TDIS/NPER', 'SLN_1/IMSLINEAR/RCLOSE', 'FLOW/CSUB/IOUTCOMP', 'FLOW/CSUB/STONAME', 'TDIS/DELTSAV', '__INPUT__/FLOW/NPF/ICELLTYPE', 'FLOW/XT3D/IOUT', 'SLN_1/IPTCOUT', '__INPUT__/FLOW/DIS/INPUT_FNAME', 'FLOW/INNPF', '__INPUT__/FLOW/CHD_0/CELLID', 'FLOW/STO/ID', 'SLN_1/IMSLINEAR/JLU', 'FLOW/CON/NJA', 'FLOW/CSUB/IPRFLOW', 'SLN_1/ICNVG', 'FLOW/XT3D/INEWTON', 'FLOW/IC/INUNIT', 'FLOW/NPF/LASTEDGE', 'SLN_1/IMSLINEAR/L2NORM0', 'FLOW/NAME', 'FLOW/ICNVG', 'FLOW/BUY/INUNIT', 'FLOW/CHD_0/IPAKCB', 'FLOW/DIS/AREA', 'FLOW/CHD_0/LASTONPER', '__INPUT__/FLOW/MODEL_SHAPE', 'FLOW/NPF/NEDGES', 'FLOW/MVR/IOUT', 'FLOW/VSC/IDXTMPR', '__INPUT__/FLOW/CHD_0/NBOUND', 'SLN_1/IMSLINEAR/LORDER', 'FLOW/MVR/MAXCOMB', 'FLOW/STO/LASTONPER', 'TMPSLN_1/DVMAX', 'FLOW/DIS/NJAS', 'FLOW/CHD_0/CONDINPUT', 'FLOW/STO/IORIG_SS', 'FLOW/CHD_0/BOUNDNAME_IDM', 'FLOW/NPF/HNOFLO', 'FLOW/VSC/ID', 'FLOW/MVR/RESET_MAPPED_ID', '__INPUT__/FLOW/NAM/SAVE_FLOWS', 'FLOW/BUY/ICONCSET', 'FLOW/VSC/THERMIVISC', 'SLN_1/DXOLD', 'FLOW/VSC/IREADELEV', 'FLOW/NPF/IPERCHED', '__INPUT__/SIM/NAM/SLNMNAMES', '__INPUT__/FLOW/DIS/TOP', 'FLOW/DIS/NODEREDUCED', 'TDIS/TOTALSIMTIME', '__INPUT__/FLOW/CHD_0/HEAD', 'FLOW/CSUB/IONPER', '__INPUT__/SIM/TDIS/PERLEN', 'FLOW/NPF/IXT3DRHS', 'FLOW/NPF/INAME', 'FLOW/RHS', 'FLOW/MVR/MAXMVR', 'FLOW/STO/IPRFLOW', 'FLOW/CHD_0/INOBSPKG', 'FLOW/CHD_0/PACKAGE_TYPE', 'FLOW/CSUB/IPRPAK', 'FLOW/BUY/IREADELEV', 'FLOW/CSUB/IESLAG', 'FLOW/MVR/INEWTON', 'SLN_1/NONMETH', 'SLN_1/NUMTRACK', 'FLOW/NPF/NODEKCHANGE', 'FLOW/NPF/K11INPUT', 'FLOW/CON/ANGLEX', 'FLOW/GNC/INEWTON', 'SLN_1/ICSVOUTEROUT', 'FLOW/HFB/IASYM', 'TDIS/TSMULT', 'SLN_1/IPRIMS', 'FLOW/IC/PACKAGE_TYPE', 'SLN_1/LINSOLVER', 'FLOW/DIS/TOP2D', 'FLOW/CON/IHC', 'FLOW/CHD_0/AUXNAME_CST', 'SLN_1/TTSOLN', 'FLOW/CHD_0/INUNIT', 'SLN_1/IMSLINEAR/IPC', 'FLOW/DIS/LENUNI', '__INPUT__/FLOW/NCID', 'FLOW/NEQ', 'TDIS/INATS', 'FLOW/CHD_0/IVSC', 'FLOW/IBOUND', '__INPUT__/SIM/NAM/EXGMNAMEA', '__INPUT__/SIM/NAM/EXGMNAMEB', 'TDIS/TOTIMC', 'FLOW/NPF/KCHANGESTP', 'FLOW/CSUB/ICELLF', 'SLN_1/IMSLINEAR/IORDER', 'FLOW/XT3D/LDISPERSION', '__INPUT__/FLOW/PKGTYPES', '__INPUT__/FLOW/CHD_0/BOUNDNAME', 'FLOW/CSUB/PACKAGE_TYPE', 'FLOW/VSC/PACKAGE_TYPE', 'FLOW/XT3D/VCTHRESH', '__INPUT__/FLOW/INUNITS', 'SLN_1/RHS', 'FLOW/MVR/IEXGMVR', 'FLOW/DIS/NROW', 'SLN_1/IMSLINEAR/NORTH', 'FLOW/VSC/IONPER', 'FLOW/CSUB/IPAKCB', 'FLOW/INGNC', 'FLOW/CHD_0/NAUX', 'FLOW/INEWTON', 'FLOW/CHD_0/IOFFSET', 'TMPSLN_1/ITINNER', 'TMPSLN_1/LOCDR', 'FLOW/INEWTONUR', 'FLOW/VSC/IPRPAK', 'SLN_1/IACTIVE', 'TMPSLN_1/LOCDV', '__INPUT__/FLOW/DIS/NLAY', 'FLOW/NPF/ISAVSPDIS', 'SLN_1/IALLOWPTC', 'SLN_1/RES_NEW', 'SLN_1/IBFLAG', 'FLOW/CSUB/IOUT', 'FLOW/DIS/TOP', 'FLOW/INMVR', 'FLOW/DIS/DELC', '__INPUT__/SIM/NAM/EXGFILE', 'FLOW/CSUB/NINTERBEDS', 'SLN_1/NEQ', 'FLOW/STO/IUSESY', 'FLOW/NPF/SATOMEGA', 'FLOW/CSUB/ISTOUNIT', 'FLOW/BUY/IPRFLOW', 'FLOW/CHD_0/IASYM', 'SLN_1/IMSLINEAR/IORD', 'SIM/NUMMODELS', 'FLOW/VSC/IOUTVISC', 'SLN_1/WSAVE', 'FLOW/INIC', 'FLOW/DIS/YORIGIN', 'FLOW/DIS/DELR', 'FLOW/FLOWJA', 'FLOW/INCSUB', 'FLOW/BUY/ID', 'SLN_1/DEOLD', 'FLOW/CON/JAUSR', 'FLOW/CSUB/INPUT_FNAME', 'FLOW/CSUB/GAMMAW', 'SLN_1/NITERMAX', 'TMPSLN_1/CONVDVMAX', '__INPUT__/FLOW/NPF/K', 'FLOW/NPF/IWETDRY', '__INPUT__/FLOW/IC/INPUT_FNAME', 'FLOW/MVR/IMODELNAMES', 'FLOW/CSUB/LASTONPER', '__INPUT__/SIM/NAM/NOCHECK', 'FLOW/NPF/HDRY', 'SLN_1/ICSVINNEROUT', 'FLOW/BUY/PACKAGE_TYPE', 'FLOW/IC/INEWTON', '__INPUT__/SIM/NAM/MNAME', 'FLOW/DIS/NJA', 'FLOW/GNC/NEXG', 'FLOW/CSUB/IUPDATESTRESS', 'TDIS/DELT', 'FLOW/VSC/IPAKCB', 'FLOW/CHD_0/MAXBOUND', 'FLOW/NJA', '__INPUT__/FLOW/CHD_0/IONPER', 'SIM/PRINT_PTABLE', 'FLOW/DIS/NODES', 'FLOW/IDSOLN', 'FLOW/NPF/K11', 'SLN_1/RELAXOLD', 'FLOW/MVR/NMVR', 'FLOW/STO/ICONF_SS', 'FLOW/CSUB/INUNIT', 'FLOW/NPF/CONDSAT', 'FLOW/DIS/XORIGIN', 'FLOW/DIS/IOUT', '__INPUT__/FLOW/NETCDF_FNAME', 'FLOW/BUY/INPUT_FNAME', 'FLOW/GNC/IASYM', 'FLOW/STO/IONPER', 'FLOW/DIS/BOT3D', 'FLOW/NPF/K22', 'FLOW/NPF/K22INPUT', 'TDIS/NSTP', 'FLOW/DIS/IDOMAIN', 'FLOW/CSUB/ICONVCHK', 'FLOW/XT3D/NUMEXTNBRS', 'FLOW/STO/IPRPAK', 'SLN_1/BREDUC', 'FLOW/CSUB/ISPECIFIED_DBH', 'FLOW/DBUFF', 'SLN_1/IMSLINEAR/IOUT', 'SLN_1/IA', 'SLN_1/ID', 'FLOW/NPF/K33', '__INPUT__/SIM/NAM/PRMEM', 'TDIS/READNEWDATA', 'FLOW/OC/IOUT', 'SLN_1/NJA', 'SLN_1/IU', 'FLOW/CON/NODES', 'FLOW/HFB/IVSC', 'FLOW/CSUB/CC_CRIT', 'FLOW/CSUB/ISTRAINIB', 'SLN_1/JA', '__INPUT__/SIM/TDIS/TSMULT', 'FLOW/HFB/INEWTON', '__INPUT__/SIM/TDIS/NPER', 'FLOW/MVR/LASTONPER', 'FLOW/XT3D/NOZEE', 'FLOW/MVR/ID', 'FLOW/MVR/IONPER', 'FLOW/VSC/INUNIT', 'FLOW/CHD_0/HEAD', 'FLOW/NPF/ICELLAVG', 'FLOW/CON/NJAS', '__INPUT__/FLOW/PKGNAMES', 'FLOW/GNC/LASTONPER', 'SLN_1/AKAPPA', 'FLOW/CHD_0/RATECHDOUT', 'SLN_1/PTCEXP', 'FLOW/MVR/IPRPAK', 'FLOW/NPF/ISAVSAT', '__INPUT__/SIM/NAM/EXGTYPE', 'SLN_1/RES_LIM', '__INPUT__/FLOW/DIS/NROW', 'SLN_1/THETA', 'TMPSLN_1/CONVLOCDR', '__INPUT__/SIM/NAM/MXITER', 'FLOW/CHD_0/SIMTOMVR', 'FLOW/STO/IPAKCB', 'TMPSLN_1/CONVLOCDV', 'SLN_1/IMSLINEAR/D', '__INPUT__/SIM/NAM/CONTINUE', 'FLOW/NPF/IREWET', 'SLN_1/IMSLINEAR/NJLU', 'FLOW/OC/INUNIT', 'FLOW/IBUFF', 'FLOW/NPF/INPUT_FNAME', 'FLOW/INOC', 'FLOW/CON/IANGLEX', 'FLOW/NPF/IHDWET', 'FLOW/CON/IAUSR', 'SLN_1/IMSLINEAR/P', 'SLN_1/IMSLINEAR/Q', 'FLOW/GNC/I2KN', 'SLN_1/IMSLINEAR/T', 'SLN_1/IMSLINEAR/V', 'SLN_1/IMSLINEAR/W', 'FLOW/CHD_0/INPUT_FNAME', 'FLOW/CHD_0/LISTLABEL', 'SLN_1/IMSLINEAR/APC', 'SLN_1/IMSLINEAR/Z', 'SLN_1/IMSLINEAR/DSCALE2', 'FLOW/MVR/IPRFLOW', 'FLOW/CHD_0/ID', 'FLOW/VSC/LASTONPER', 'FLOW/NPF/IHCEDGE', 'FLOW/NPF/IBOTNODE', 'FLOW/NPF/INEWTON', '__INPUT__/FLOW/NPF/ISAVSPDIS', '__INPUT__/SIM/NAM/MTYPE', 'FLOW/GNC/IPRFLOW', 'SLN_1/GAMMA', 'FLOW/NPF/WETDRY', 'FLOW/BUY/IOUTDENSE', '__INPUT__/FLOW/DIS/DELC', 'FLOW/CON/CL1', 'FLOW/CON/CL2', 'SLN_1/XTEMP', 'FLOW/CHD_0/ISCLOC', 'FLOW/CON/IA', 'SLN_1/IMSLINEAR/DROPTOL', '__INPUT__/SIM/NAM/SOLUTIONGROUPNUM', '__INPUT__/SIM/NUMMODELS', 'FLOW/MVR/IBUDGETOUT', 'FLOW/XT3D/IXT3D', '__INPUT__/FLOW/DIS/DELR', 'TDIS/KPER', 'FLOW/NPF/IVARCV', 'TMPSLN_1/NITERMAX', 'SLN_1/IMSLINEAR/NIABCGS', 'FLOW/STO/INPUT_FNAME', 'FLOW/NPF/INVSC', 'SLN_1/TTFORM', 'FLOW/GNC/PACKAGE_TYPE', 'FLOW/CSUB/IAUXMULTCOL', 'FLOW/BUY/LASTONPER', 'FLOW/MVR/IPAKCB', 'FLOW/CHD_0/AUXVAR')\n"
     ]
    }
   ],
   "source": [
    "print(\"MF6 Input var names :\", mf6.get_input_var_names()) # mf6.get_output_var_names()"
   ]
  },
  {
   "cell_type": "code",
   "execution_count": 6,
   "id": "5c2d5be2-6824-45a7-9e34-51999483bd2b",
   "metadata": {},
   "outputs": [
    {
     "name": "stdout",
     "output_type": "stream",
     "text": [
      "Config file: C:\\Users\\luiggi\\Documents\\GitSites\\mf6_tutorial\\examples\\10_mf6_api\\sandbox0\\mfsim.nam\n",
      "Start time: 0.0\n",
      "Current time: 0.0\n",
      "Time step: 0.0\n",
      "End time: 1.0\n",
      "Max. iter: [25]\n"
     ]
    }
   ],
   "source": [
    "# time\n",
    "start_time = mf6.get_start_time()\n",
    "current_time = mf6.get_current_time()\n",
    "time_step = mf6.get_time_step()\n",
    "end_time = mf6.get_end_time()\n",
    "\n",
    "# maximum outer iterations\n",
    "max_iter = mf6.get_value(mf6.get_var_address(\"MXITER\", \"SLN_1\"))\n",
    "\n",
    "print(\"Config file:\", mf6_config_file)\n",
    "print(\"Start time:\", start_time)\n",
    "print(\"Current time:\", current_time)\n",
    "print(\"Time step:\", time_step)\n",
    "print(\"End time:\", end_time)\n",
    "print(\"Max. iter:\", max_iter)"
   ]
  },
  {
   "cell_type": "code",
   "execution_count": 7,
   "id": "825affd7-189d-4573-bea2-30e82f0c4010",
   "metadata": {},
   "outputs": [
    {
     "name": "stdout",
     "output_type": "stream",
     "text": [
      "[1. 1. 1. 1. 1.]\n"
     ]
    }
   ],
   "source": [
    "head = mf6.get_value(mf6.get_var_address(\"X\", \"FLOW\"))\n",
    "print(head)"
   ]
  },
  {
   "cell_type": "code",
   "execution_count": 8,
   "id": "1c6dd5a7-632e-48e3-96c6-ae12e1ab634c",
   "metadata": {},
   "outputs": [
    {
     "name": "stdout",
     "output_type": "stream",
     "text": [
      "SLN_1/NCOL\tSLN_1/IMSLINEAR/ID\tSLN_1/IMSLINEAR/WLU\tSLN_1/IMSLINEAR/IW\tSLN_1/IMSLINEAR/ARO\tSLN_1/IMSLINEAR/JAPC\tSLN_1/IMSLINEAR/NJAPC\tSLN_1/BIGCHOLD\tSLN_1/MATRIX_OFFSET\tSLN_1/IMSLINEAR/JW\tSLN_1/AMOMENTUM\tSLN_1/CONVNMOD\tSLN_1/IMSLINEAR/JARO\tSLN_1/ISYMMETRIC\tSLN_1/IMSLINEAR/LEVEL\tSLN_1/ITERTOT_TIMESTEP\tSLN_1/DVCLOSE\tSLN_1/IMSLINEAR/ISCL\tSLN_1/HCHOLD\tSLN_1/IMSLINEAR/QHAT\tSLN_1/MXITER\tSLN_1/ATSFRAC\tSLN_1/PTCDEL0\tSLN_1/IOUTTOT_TIMESTEP\tSLN_1/IMSLINEAR/ITER1\tSLN_1/IMSLINEAR/ILINMETH\tSLN_1/IMSLINEAR/IAPC\tSLN_1/IMSLINEAR/NIAPC\tTMPSLN_1/DRMAX\tSLN_1/HNCG\tSLN_1/IMSLINEAR/NITERC\tSLN_1/INNERTOT_SIM\tSLN_1/IMSLINEAR/NJA\tSLN_1/IMSLINEAR/RELAX\tSLN_1/IMSLINEAR/IARO\tSLN_1/IMSLINEAR/NJW\tTMPSLN_1/CONVNMOD\tSLN_1/IMSLINEAR/DVCLOSE\tSLN_1/RES_PREV\tSLN_1/IMSLINEAR/DSCALE\tSLN_1/IMSLINEAR/ICNVGOPT\tSLN_1/IMSLINEAR/PHAT\tSLN_1/IMSLINEAR/DHAT\tSLN_1/L2NORM0\tSLN_1/IPTCOPT\tSLN_1/PTCDEL\tSLN_1/X\tSLN_1/BTOL\tSLN_1/AMAT\tSLN_1/IMSLINEAR/EPFACT\tSLN_1/IMSLINEAR/IACPC\tSLN_1/LRCH\tSLN_1/CONVMODSTART\tTMPSLN_1/CONVDRMAX\tSLN_1/IMSLINEAR/NWLU\tSLN_1/NROW\tSLN_1/IMSLINEAR/IDFPARAM\tSLN_1/BIGCH\tSLN_1/IMSLINEAR/RCLOSE\tSLN_1/IPTCOUT\tSLN_1/IMSLINEAR/JLU\tSLN_1/ICNVG\tSLN_1/IMSLINEAR/L2NORM0\tSLN_1/IMSLINEAR/LORDER\tTMPSLN_1/DVMAX\tSLN_1/DXOLD\tSLN_1/NONMETH\tSLN_1/NUMTRACK\tSLN_1/ICSVOUTEROUT\tSLN_1/IPRIMS\tSLN_1/LINSOLVER\tSLN_1/TTSOLN\tSLN_1/IMSLINEAR/IPC\tSLN_1/IMSLINEAR/IORDER\tSLN_1/RHS\tSLN_1/IMSLINEAR/NORTH\tTMPSLN_1/ITINNER\tTMPSLN_1/LOCDR\tSLN_1/IACTIVE\tTMPSLN_1/LOCDV\tSLN_1/IALLOWPTC\tSLN_1/RES_NEW\tSLN_1/IBFLAG\tSLN_1/NEQ\tSLN_1/IMSLINEAR/IORD\tSLN_1/WSAVE\tSLN_1/DEOLD\tSLN_1/NITERMAX\tTMPSLN_1/CONVDVMAX\tSLN_1/ICSVINNEROUT\tSLN_1/RELAXOLD\tSLN_1/BREDUC\tSLN_1/IMSLINEAR/IOUT\tSLN_1/IA\tSLN_1/ID\tSLN_1/NJA\tSLN_1/IU\tSLN_1/JA\tSLN_1/AKAPPA\tSLN_1/PTCEXP\tSLN_1/RES_LIM\tSLN_1/THETA\tTMPSLN_1/CONVLOCDR\tTMPSLN_1/CONVLOCDV\tSLN_1/IMSLINEAR/D\tSLN_1/IMSLINEAR/NJLU\tSLN_1/IMSLINEAR/P\tSLN_1/IMSLINEAR/Q\tSLN_1/IMSLINEAR/T\tSLN_1/IMSLINEAR/V\tSLN_1/IMSLINEAR/W\tSLN_1/IMSLINEAR/APC\tSLN_1/IMSLINEAR/Z\tSLN_1/IMSLINEAR/DSCALE2\tSLN_1/GAMMA\tSLN_1/XTEMP\tSLN_1/IMSLINEAR/DROPTOL\tTMPSLN_1/NITERMAX\tSLN_1/IMSLINEAR/NIABCGS\tSLN_1/TTFORM\t"
     ]
    }
   ],
   "source": [
    "for label in mf6.get_input_var_names():\n",
    "    if 'SLN_1' in label:\n",
    "        print(label, end = \"\\t\")"
   ]
  },
  {
   "cell_type": "code",
   "execution_count": null,
   "id": "3a68748f-ac3c-4709-a78e-ac3ed2cb7581",
   "metadata": {},
   "outputs": [],
   "source": []
  }
 ],
 "metadata": {
  "kernelspec": {
   "display_name": "Python 3 (ipykernel)",
   "language": "python",
   "name": "python3"
  },
  "language_info": {
   "codemirror_mode": {
    "name": "ipython",
    "version": 3
   },
   "file_extension": ".py",
   "mimetype": "text/x-python",
   "name": "python",
   "nbconvert_exporter": "python",
   "pygments_lexer": "ipython3",
   "version": "3.13.3"
  }
 },
 "nbformat": 4,
 "nbformat_minor": 5
}
