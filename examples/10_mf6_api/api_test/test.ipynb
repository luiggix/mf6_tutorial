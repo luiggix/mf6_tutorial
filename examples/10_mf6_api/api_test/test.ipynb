{
 "cells": [
  {
   "cell_type": "code",
   "execution_count": null,
   "id": "eefe8590-14eb-4ee8-bb3c-7362b8e4a134",
   "metadata": {},
   "outputs": [],
   "source": [
    "import os, sys\n",
    "import matplotlib.pyplot as plt\n",
    "import numpy as np\n",
    "\n",
    "# Biblioteca y módulos de flopy\n",
    "import flopy\n",
    "from flopy.plot.styles import styles\n",
    "\n",
    "# Extras para mf6 y flopy (módulo creado en este proyecto)\n",
    "import xmf6\n",
    "\n",
    "from modflowapi import ModflowApi"
   ]
  },
  {
   "cell_type": "code",
   "execution_count": null,
   "id": "0821e360-b5b9-4a0e-83ba-955e39fa0e2e",
   "metadata": {},
   "outputs": [],
   "source": [
    "init = {\n",
    "    'sim_name' : \"flow\",\n",
    "    'exe_name' : \"C:\\\\Users\\\\luiggi\\\\Documents\\\\GitSites\\\\xmf6\\\\mf6\\\\windows\\\\mf6\",\n",
    "#    'exe_name' : \"../../mf6/macosarm/mf6\",\n",
    "    'sim_ws' : os.path.join(\".\", \"sandbox1\")\n",
    "}\n",
    "\n",
    "time = {\n",
    "    'units': \"seconds\",\n",
    "    'nper' : 1,\n",
    "    'perioddata': [(120.0, 1, 1.0)]\n",
    "}\n",
    "\n",
    "ims = {}\n",
    "\n",
    "gwf = { \n",
    "    'modelname': init[\"sim_name\"],\n",
    "    'model_nam_file': f\"{init[\"sim_name\"]}.nam\",\n",
    "    'save_flows': True\n",
    "}\n",
    "\n",
    "o_sim, o_tdis, o_ims = xmf6.gwf.init_sim(silent = True, init = init, tdis = time, ims = ims)"
   ]
  },
  {
   "cell_type": "code",
   "execution_count": null,
   "id": "be69a5c8-5ab8-4786-8cea-15216658c9a1",
   "metadata": {},
   "outputs": [],
   "source": [
    "dis = {\n",
    "    'length_units' : \"centimeters\",\n",
    "    'nlay': 1, \n",
    "    'nrow': 1, \n",
    "    'ncol': 120,\n",
    "    'delr': 0.1, \n",
    "    'delc': 0.1,\n",
    "    'top' : 1.0, \n",
    "    'botm': 0.0 \n",
    "}\n",
    "\n",
    "ic = {\n",
    "    'strt': 1.0\n",
    "}\n",
    "\n",
    "npf = {\n",
    "    'save_specific_discharge': True,\n",
    "    'save_saturation' : True,\n",
    "    'icelltype' : 0,\n",
    "    'k' : 0.01,\n",
    "}\n",
    "\n",
    "chd = {\n",
    "    'stress_period_data': [[(0, 0, dis['ncol'] - 1), 1.0]],     \n",
    "}\n",
    "\n",
    "## Physical parameters\n",
    "specific_discharge = 0.1  # Specific discharge ($cm s^{-1}$)\n",
    "source_concentration = 1.0  # Source concentration (unitless)\n",
    "q   = specific_discharge * dis['delc'] * dis['delr'] * dis['top']\n",
    "aux = source_concentration\n",
    "\n",
    "well = {\n",
    "    'stress_period_data': [[(0, 0, 0), q, aux,]],\n",
    "    'pname': \"WEL-1\",\n",
    "    'save_flows': True,\n",
    "    'auxiliary' : [\"CONCENTRATION\"],\n",
    "\n",
    "}\n",
    "\n",
    "oc = {\n",
    "    'budget_filerecord': f\"{init['sim_name']}.bud\",\n",
    "    'head_filerecord': f\"{init['sim_name']}.hds\",\n",
    "    'saverecord' : [(\"HEAD\", \"ALL\"), (\"BUDGET\", \"ALL\")],\n",
    "\n",
    "}\n",
    "\n",
    "o_gwf, _ = xmf6.gwf.set_packages(o_sim, silent = True,\n",
    "                                 gwf = gwf, dis = dis, ic = ic, chd = chd, npf = npf, oc = oc, well = well)\n",
    "\n",
    "o_sim.write_simulation(silent = True)"
   ]
  },
  {
   "cell_type": "code",
   "execution_count": null,
   "id": "7ead29ad-b1ce-4ab4-ab13-a4d082cbcafd",
   "metadata": {},
   "outputs": [],
   "source": [
    "if sys.platform == \"win32\":\n",
    "    mf6_dll = \"libmf6.dll\"\n",
    "elif sys.platform == \"darwin\":\n",
    "    mf6_dll = \"libmf6.dylib\"\n",
    "else:\n",
    "    mf6_dll = \"libmf6.so\"\n",
    "\n",
    "mf6_dll = os.path.abspath(os.path.join(\"..\", \"bin\", mf6_dll))\n",
    "\n",
    "mf6_config_file = os.path.join(init['sim_ws'], 'mfsim.nam')\n",
    "mf6 = ModflowApi(mf6_dll, working_directory=init['sim_ws'])\n",
    "\n",
    "# initialize the model\n",
    "mf6.initialize(mf6_config_file)\n",
    "\n",
    "# time loop\n",
    "start_time = mf6.get_start_time()\n",
    "current_time = mf6.get_current_time()\n",
    "time_step = mf6.get_time_step()\n",
    "end_time = mf6.get_end_time()\n",
    "\n",
    "# maximum outer iterations\n",
    "max_iter = mf6.get_value(mf6.get_var_address(\"MXITER\", \"SLN_1\"))"
   ]
  },
  {
   "cell_type": "code",
   "execution_count": null,
   "id": "9f3e9c38-71c9-4326-934a-d11e262fc4c1",
   "metadata": {},
   "outputs": [],
   "source": [
    "print(sys.platform, \": \", mf6_dll)\n",
    "print(\"Config file:\", mf6_config_file)\n",
    "print(\"Start time:\", start_time)\n",
    "print(\"Current time:\", current_time)\n",
    "print(\"Time step:\", time_step)\n",
    "print(\"End time:\", end_time)\n",
    "print(\"Max. iter:\", max_iter)"
   ]
  },
  {
   "cell_type": "code",
   "execution_count": null,
   "id": "26e0d3a2-c38a-4f66-9f2a-788349aa392a",
   "metadata": {},
   "outputs": [],
   "source": [
    "# model time loop\n",
    "idx = 0\n",
    "current_time = 0\n",
    "while current_time < end_time:\n",
    "    current_time += 120\n",
    "    print(current_time, end = \" \")\n",
    "\n",
    "    mf6.prepare_solve()\n",
    "    kiter = 0\n",
    "    while kiter < max_iter:\n",
    "        has_converged = mf6.solve(1)\n",
    "        print(\"Iter :\", kiter)\n",
    "        kiter += 1\n",
    "        \n",
    "        if has_converged:\n",
    "            print(f\" Convergencia obtenida : {has_converged}\")\n",
    "            break\n",
    "\n",
    "    # finalize time step\n",
    "    mf6.finalize_solve()\n",
    "\n",
    "    # finalize time step and update time\n",
    "#    mf6.finalize_time_step()\n",
    "#    current_time = mf6.get_current_time()\n",
    "\n",
    "    if not has_converged:\n",
    "        print(\"model did not converge\")\n",
    "        break\n",
    "# cleanup\n",
    "try:\n",
    "    mf6.finalize()\n",
    "    success = True\n",
    "except:\n",
    "    raise RuntimeError\n",
    "    "
   ]
  },
  {
   "cell_type": "code",
   "execution_count": null,
   "id": "6e3c49c0-9e90-4c8f-b320-6e44b4c5061d",
   "metadata": {},
   "outputs": [],
   "source": [
    "mf6.get_var_address(\"XC\", 'FLOW', \"DIS\")"
   ]
  },
  {
   "cell_type": "code",
   "execution_count": null,
   "id": "660ef813-518e-44b0-81b8-d1f6dc7fb97f",
   "metadata": {},
   "outputs": [],
   "source": [
    "print(\"MF6 Input var names :\", mf6.get_input_var_names()) # mf6.get_output_var_names()"
   ]
  },
  {
   "cell_type": "code",
   "execution_count": null,
   "id": "08ba7a26-cfb9-4c55-8863-a8c289e8b474",
   "metadata": {},
   "outputs": [],
   "source": [
    "mf6.get_value(mf6.get_var_address(\"BOTM\", '__INPUT__/FLOW', \"DIS\"))"
   ]
  },
  {
   "cell_type": "code",
   "execution_count": null,
   "id": "73d4357b-fd38-4e8d-928c-936e743848a8",
   "metadata": {},
   "outputs": [],
   "source": [
    "for label in mf6.get_input_var_names():\n",
    "    if 'SLN' in label:\n",
    "        print(label)"
   ]
  },
  {
   "cell_type": "code",
   "execution_count": null,
   "id": "72865a2d-aec5-40cb-8191-ac20d9d62a1e",
   "metadata": {},
   "outputs": [],
   "source": [
    "mf6.get_value(mf6.get_var_address(\"MXITER\", 'SLN_1'))"
   ]
  },
  {
   "cell_type": "code",
   "execution_count": null,
   "id": "34c5ec79-e42b-4f5b-83f3-cab393a561b1",
   "metadata": {},
   "outputs": [],
   "source": [
    "for label in mf6.get_input_var_names():\n",
    "    if 'FLOW/DIS' in label:\n",
    "        print(label)"
   ]
  },
  {
   "cell_type": "code",
   "execution_count": null,
   "id": "36a574a1-2c3a-4cd1-8b4e-369ebff3f3b6",
   "metadata": {},
   "outputs": [],
   "source": [
    "for label in mf6.get_input_var_names():\n",
    "    if 'FLOW/DIS' in label:\n",
    "        var_list = label.split('/')\n",
    "        if '__INPUT__' in label and 'DISENUM' not in label:\n",
    "            comp_name = '/'.join((var_list[0], var_list[1]))\n",
    "            scomp_name = var_list[2]\n",
    "        else:\n",
    "            comp_name = var_list[0]\n",
    "            scomp_name = var_list[1]\n",
    "\n",
    "        var_value = mf6.get_value(mf6.get_var_address(var_list[-1], comp_name, scomp_name))\n",
    "        print(label, var_value)"
   ]
  },
  {
   "cell_type": "code",
   "execution_count": null,
   "id": "8f6b15a0-d554-47a7-904f-e6f2caf6625b",
   "metadata": {},
   "outputs": [],
   "source": [
    "for label in mf6.get_input_var_names():\n",
    "    if 'FLOW/CHD' in label:\n",
    "        print(label)"
   ]
  },
  {
   "cell_type": "code",
   "execution_count": null,
   "id": "0d31491e-09ac-46b6-953e-ebe44dfb01e0",
   "metadata": {},
   "outputs": [],
   "source": [
    "fail = [\"FLOW/CHD_0/BOUNDNAME\", 'FLOW/CHD_0/AUXNAME']\n",
    "for label in mf6.get_input_var_names():\n",
    "    if 'FLOW/CHD' in label and label not in fail :\n",
    "        var_list = label.split('/')\n",
    "        if '__INPUT__' in label:\n",
    "            comp_name = '/'.join((var_list[0], var_list[1]))\n",
    "            scomp_name = var_list[2]\n",
    "        else:\n",
    "            comp_name = var_list[0]\n",
    "            scomp_name = var_list[1]\n",
    "\n",
    "        var_value = mf6.get_value(mf6.get_var_address(var_list[-1], comp_name, scomp_name))\n",
    "        print(label, var_value)"
   ]
  },
  {
   "cell_type": "code",
   "execution_count": null,
   "id": "2bc6300a-2b60-419d-9312-8817dc5c62b6",
   "metadata": {},
   "outputs": [],
   "source": [
    "\n",
    "\n",
    "dis_address = mf6.get_var_address(\"NDIM\", init['sim_name'].upper(), \"DIS\")\n",
    "dim = mf6.get_value(dis_address)\n",
    "print(\"NDIM:\", dim)\n",
    "\n",
    "print(mf6.get_value(mf6.get_var_address(\"YC\", init['sim_name'].upper(), \"DIS\")))\n",
    "\n",
    "print(mf6.get_value(mf6.get_var_address(\"X\", init['sim_name'].upper())))\n"
   ]
  },
  {
   "cell_type": "code",
   "execution_count": null,
   "id": "c710b2f1-a3c3-481f-b9cc-656f1113129d",
   "metadata": {},
   "outputs": [],
   "source": [
    "o_sim.run_simulation()"
   ]
  },
  {
   "cell_type": "code",
   "execution_count": null,
   "id": "aaaae015-5ae3-4630-9e30-ed5dd7a9ed2b",
   "metadata": {},
   "outputs": [],
   "source": [
    "# --- Recuperamos los resultados de la simulación ---\n",
    "head = xmf6.gwf.get_head(o_gwf)\n",
    "qx, qy, qz, n_q = xmf6.gwf.get_specific_discharge(o_gwf)\n",
    "\n",
    "# Verificamos el tipo y dimensiones de los arreglos donde\n",
    "# están almacenados la carga hidráulica, el BUDGET, y la velocidad.\n",
    "print('Head : ', type(head), head.shape)\n",
    "print('qx : ', type(qx), qx.shape)\n",
    "print('qy : ', type(qy), qy.shape)\n",
    "print('qz : ', type(qz), qz.shape)\n",
    "\n",
    "print(head.shape, '\\n', head)"
   ]
  },
  {
   "cell_type": "code",
   "execution_count": null,
   "id": "1da8f325-9487-4575-a594-5cc715696fbe",
   "metadata": {},
   "outputs": [],
   "source": [
    "# Obtenemos el objeto con la información de la discretización espacial\n",
    "grid = o_gwf.modelgrid\n",
    "\n",
    "# Coordenadas del centro de celdas para graficación\n",
    "x, _, _ = grid.xyzcellcenters\n",
    "print(x)\n",
    "with styles.USGSPlot():\n",
    "    plt.rcParams['font.family'] = 'DeJavu Sans'\n",
    "    plt.figure(figsize=(10,3))\n",
    "    plt.plot(x[0], head[0, 0], marker=\".\", ls =\"-\", mec=\"blue\", mfc=\"none\", markersize=\"1\", label = 'Head')\n",
    "    plt.xlim(0, 12)\n",
    "    plt.xticks(ticks=np.linspace(0, grid.extent[1],13))\n",
    "    plt.xlabel(\"Distance (cm)\")\n",
    "    plt.ylabel(\"Head\")\n",
    "    plt.legend()\n",
    "    plt.grid()\n",
    "    plt.show()"
   ]
  },
  {
   "cell_type": "code",
   "execution_count": null,
   "id": "5f2900df-c82e-4bc8-81db-c24354b2e8bd",
   "metadata": {},
   "outputs": [],
   "source": [
    "plt.figure(figsize=(10,0.15))\n",
    "ax = plt.gca()\n",
    "pmv0 = flopy.plot.PlotMapView(o_gwf, ax=ax)\n",
    "pmv0.plot_grid(colors='dimgray', lw=0.5)\n",
    "plt.show()"
   ]
  },
  {
   "cell_type": "code",
   "execution_count": null,
   "id": "cf3122f7-0af2-4a9e-bf07-bc132eb4422d",
   "metadata": {},
   "outputs": [],
   "source": []
  }
 ],
 "metadata": {
  "kernelspec": {
   "display_name": "Python 3 (ipykernel)",
   "language": "python",
   "name": "python3"
  },
  "language_info": {
   "codemirror_mode": {
    "name": "ipython",
    "version": 3
   },
   "file_extension": ".py",
   "mimetype": "text/x-python",
   "name": "python",
   "nbconvert_exporter": "python",
   "pygments_lexer": "ipython3",
   "version": "3.13.3"
  }
 },
 "nbformat": 4,
 "nbformat_minor": 5
}
