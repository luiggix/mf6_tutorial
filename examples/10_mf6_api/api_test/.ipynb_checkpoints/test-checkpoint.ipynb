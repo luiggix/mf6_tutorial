{
 "cells": [
  {
   "cell_type": "code",
   "execution_count": 1,
   "id": "eefe8590-14eb-4ee8-bb3c-7362b8e4a134",
   "metadata": {},
   "outputs": [],
   "source": [
    "import os, sys\n",
    "import matplotlib.pyplot as plt\n",
    "import numpy as np\n",
    "\n",
    "# Biblioteca y módulos de flopy\n",
    "import flopy\n",
    "from flopy.plot.styles import styles\n",
    "\n",
    "# Extras para mf6 y flopy (módulo creado en este proyecto)\n",
    "import xmf6\n",
    "\n",
    "from modflowapi import ModflowApi"
   ]
  },
  {
   "cell_type": "code",
   "execution_count": 2,
   "id": "0821e360-b5b9-4a0e-83ba-955e39fa0e2e",
   "metadata": {},
   "outputs": [],
   "source": [
    "init = {\n",
    "    'sim_name' : \"flow\",\n",
    "    'exe_name' : \"C:\\\\Users\\\\luiggi\\\\Documents\\\\GitSites\\\\xmf6\\\\mf6\\\\windows\\\\mf6\",\n",
    "#    'exe_name' : \"../../mf6/macosarm/mf6\",\n",
    "    'sim_ws' : os.path.join(\".\", \"sandbox1\")\n",
    "}\n",
    "\n",
    "time = {\n",
    "    'units': \"seconds\",\n",
    "    'nper' : 1,\n",
    "    'perioddata': [(120.0, 1, 1.0)]\n",
    "}\n",
    "\n",
    "ims = {}\n",
    "\n",
    "gwf = { \n",
    "    'modelname': init[\"sim_name\"],\n",
    "    'model_nam_file': f\"{init[\"sim_name\"]}.nam\",\n",
    "    'save_flows': True\n",
    "}\n",
    "\n",
    "o_sim, o_tdis, o_ims = xmf6.gwf.init_sim(silent = True, init = init, tdis = time, ims = ims)"
   ]
  },
  {
   "cell_type": "code",
   "execution_count": 4,
   "id": "be69a5c8-5ab8-4786-8cea-15216658c9a1",
   "metadata": {},
   "outputs": [],
   "source": [
    "dis = {\n",
    "    'length_units' : \"centimeters\",\n",
    "    'nlay': 1, \n",
    "    'nrow': 1, \n",
    "    'ncol': 120,\n",
    "    'delr': 0.1, \n",
    "    'delc': 0.1,\n",
    "    'top' : 1.0, \n",
    "    'botm': 0.0 \n",
    "}\n",
    "\n",
    "ic = {\n",
    "    'strt': 1.0\n",
    "}\n",
    "\n",
    "npf = {\n",
    "    'save_specific_discharge': True,\n",
    "    'save_saturation' : True,\n",
    "    'icelltype' : 0,\n",
    "    'k' : 0.01,\n",
    "}\n",
    "\n",
    "chd = {\n",
    "    'stress_period_data': [[(0, 0, dis['ncol'] - 1), 1.0]],     \n",
    "}\n",
    "\n",
    "## Physical parameters\n",
    "specific_discharge = 0.1  # Specific discharge ($cm s^{-1}$)\n",
    "source_concentration = 1.0  # Source concentration (unitless)\n",
    "q   = specific_discharge * dis['delc'] * dis['delr'] * dis['top']\n",
    "aux = source_concentration\n",
    "\n",
    "well = {\n",
    "    'stress_period_data': [[(0, 0, 0), q, aux,]],\n",
    "    'pname': \"WEL-1\",\n",
    "    'save_flows': True,\n",
    "    'auxiliary' : [\"CONCENTRATION\"],\n",
    "\n",
    "}\n",
    "\n",
    "oc = {\n",
    "    'budget_filerecord': f\"{init['sim_name']}.bud\",\n",
    "    'head_filerecord': f\"{init['sim_name']}.hds\",\n",
    "    'saverecord' : [(\"HEAD\", \"ALL\"), (\"BUDGET\", \"ALL\")],\n",
    "\n",
    "}\n",
    "\n",
    "o_gwf, _ = xmf6.gwf.set_packages(o_sim, silent = True,\n",
    "                                 gwf = gwf, dis = dis, ic = ic, chd = chd, npf = npf, oc = oc, well = well)\n",
    "\n",
    "o_sim.write_simulation(silent = True)"
   ]
  },
  {
   "cell_type": "code",
   "execution_count": 5,
   "id": "7ead29ad-b1ce-4ab4-ab13-a4d082cbcafd",
   "metadata": {},
   "outputs": [],
   "source": [
    "if sys.platform == \"win32\":\n",
    "    mf6_dll = \"libmf6.dll\"\n",
    "elif sys.platform == \"darwin\":\n",
    "    mf6_dll = \"libmf6.dylib\"\n",
    "else:\n",
    "    mf6_dll = \"libmf6.so\"\n",
    "\n",
    "mf6_dll = os.path.abspath(os.path.join(\"..\", \"bin\", mf6_dll))\n",
    "\n",
    "mf6_config_file = os.path.join(init['sim_ws'], 'mfsim.nam')\n",
    "mf6 = ModflowApi(mf6_dll, working_directory=init['sim_ws'])\n",
    "\n",
    "# initialize the model\n",
    "mf6.initialize(mf6_config_file)\n",
    "\n",
    "# time loop\n",
    "start_time = mf6.get_start_time()\n",
    "current_time = mf6.get_current_time()\n",
    "time_step = mf6.get_time_step()\n",
    "end_time = mf6.get_end_time()\n",
    "\n",
    "# maximum outer iterations\n",
    "max_iter = mf6.get_value(mf6.get_var_address(\"MXITER\", \"SLN_1\"))"
   ]
  },
  {
   "cell_type": "code",
   "execution_count": 6,
   "id": "9f3e9c38-71c9-4326-934a-d11e262fc4c1",
   "metadata": {},
   "outputs": [
    {
     "name": "stdout",
     "output_type": "stream",
     "text": [
      "win32 :  C:\\Users\\luiggi\\Documents\\GitSites\\xmf6\\examples\\10_mf6_api\\emsdatasets\\bin\\libmf6.dll\n",
      "Config file: .\\sandbox1\\mfsim.nam\n",
      "Start time: 0.0\n",
      "Current time: 0.0\n",
      "Time step: 0.0\n",
      "End time: 120.0\n",
      "Max. iter: [25]\n"
     ]
    }
   ],
   "source": [
    "print(sys.platform, \": \", mf6_dll)\n",
    "print(\"Config file:\", mf6_config_file)\n",
    "print(\"Start time:\", start_time)\n",
    "print(\"Current time:\", current_time)\n",
    "print(\"Time step:\", time_step)\n",
    "print(\"End time:\", end_time)\n",
    "print(\"Max. iter:\", max_iter)"
   ]
  },
  {
   "cell_type": "code",
   "execution_count": 7,
   "id": "26e0d3a2-c38a-4f66-9f2a-788349aa392a",
   "metadata": {},
   "outputs": [
    {
     "name": "stdout",
     "output_type": "stream",
     "text": [
      "120 Iter : 0\n",
      " Convergencia obtenida : True\n"
     ]
    }
   ],
   "source": [
    "# model time loop\n",
    "idx = 0\n",
    "current_time = 0\n",
    "while current_time < end_time:\n",
    "    current_time += 120\n",
    "    print(current_time, end = \" \")\n",
    "\n",
    "    mf6.prepare_solve()\n",
    "    kiter = 0\n",
    "    while kiter < max_iter:\n",
    "        has_converged = mf6.solve(1)\n",
    "        print(\"Iter :\", kiter)\n",
    "        kiter += 1\n",
    "        \n",
    "        if has_converged:\n",
    "            print(f\" Convergencia obtenida : {has_converged}\")\n",
    "            break\n",
    "\n",
    "    # finalize time step\n",
    "    mf6.finalize_solve()\n",
    "\n",
    "    # finalize time step and update time\n",
    "#    mf6.finalize_time_step()\n",
    "#    current_time = mf6.get_current_time()\n",
    "\n",
    "    if not has_converged:\n",
    "        print(\"model did not converge\")\n",
    "        break\n",
    "# cleanup\n",
    "try:\n",
    "    mf6.finalize()\n",
    "    success = True\n",
    "except:\n",
    "    raise RuntimeError\n",
    "    "
   ]
  },
  {
   "cell_type": "code",
   "execution_count": null,
   "id": "6e3c49c0-9e90-4c8f-b320-6e44b4c5061d",
   "metadata": {},
   "outputs": [],
   "source": [
    "mf6.get_var_address(\"XC\", 'FLOW', \"DIS\")"
   ]
  },
  {
   "cell_type": "code",
   "execution_count": null,
   "id": "660ef813-518e-44b0-81b8-d1f6dc7fb97f",
   "metadata": {},
   "outputs": [],
   "source": [
    "print(\"MF6 Input var names :\", mf6.get_input_var_names()) # mf6.get_output_var_names()"
   ]
  },
  {
   "cell_type": "code",
   "execution_count": null,
   "id": "08ba7a26-cfb9-4c55-8863-a8c289e8b474",
   "metadata": {},
   "outputs": [],
   "source": [
    "mf6.get_value(mf6.get_var_address(\"BOTM\", '__INPUT__/FLOW', \"DIS\"))"
   ]
  },
  {
   "cell_type": "code",
   "execution_count": null,
   "id": "73d4357b-fd38-4e8d-928c-936e743848a8",
   "metadata": {},
   "outputs": [],
   "source": [
    "for label in mf6.get_input_var_names():\n",
    "    if 'SLN' in label:\n",
    "        print(label)"
   ]
  },
  {
   "cell_type": "code",
   "execution_count": null,
   "id": "72865a2d-aec5-40cb-8191-ac20d9d62a1e",
   "metadata": {},
   "outputs": [],
   "source": [
    "mf6.get_value(mf6.get_var_address(\"MXITER\", 'SLN_1'))"
   ]
  },
  {
   "cell_type": "code",
   "execution_count": null,
   "id": "34c5ec79-e42b-4f5b-83f3-cab393a561b1",
   "metadata": {},
   "outputs": [],
   "source": [
    "for label in mf6.get_input_var_names():\n",
    "    if 'FLOW/DIS' in label:\n",
    "        print(label)"
   ]
  },
  {
   "cell_type": "code",
   "execution_count": null,
   "id": "36a574a1-2c3a-4cd1-8b4e-369ebff3f3b6",
   "metadata": {},
   "outputs": [],
   "source": [
    "for label in mf6.get_input_var_names():\n",
    "    if 'FLOW/DIS' in label:\n",
    "        var_list = label.split('/')\n",
    "        if '__INPUT__' in label and 'DISENUM' not in label:\n",
    "            comp_name = '/'.join((var_list[0], var_list[1]))\n",
    "            scomp_name = var_list[2]\n",
    "        else:\n",
    "            comp_name = var_list[0]\n",
    "            scomp_name = var_list[1]\n",
    "\n",
    "        var_value = mf6.get_value(mf6.get_var_address(var_list[-1], comp_name, scomp_name))\n",
    "        print(label, var_value)"
   ]
  },
  {
   "cell_type": "code",
   "execution_count": null,
   "id": "8f6b15a0-d554-47a7-904f-e6f2caf6625b",
   "metadata": {},
   "outputs": [],
   "source": [
    "for label in mf6.get_input_var_names():\n",
    "    if 'FLOW/CHD' in label:\n",
    "        print(label)"
   ]
  },
  {
   "cell_type": "code",
   "execution_count": null,
   "id": "0d31491e-09ac-46b6-953e-ebe44dfb01e0",
   "metadata": {},
   "outputs": [],
   "source": [
    "fail = [\"FLOW/CHD_0/BOUNDNAME\", 'FLOW/CHD_0/AUXNAME']\n",
    "for label in mf6.get_input_var_names():\n",
    "    if 'FLOW/CHD' in label and label not in fail :\n",
    "        var_list = label.split('/')\n",
    "        if '__INPUT__' in label:\n",
    "            comp_name = '/'.join((var_list[0], var_list[1]))\n",
    "            scomp_name = var_list[2]\n",
    "        else:\n",
    "            comp_name = var_list[0]\n",
    "            scomp_name = var_list[1]\n",
    "\n",
    "        var_value = mf6.get_value(mf6.get_var_address(var_list[-1], comp_name, scomp_name))\n",
    "        print(label, var_value)"
   ]
  },
  {
   "cell_type": "code",
   "execution_count": null,
   "id": "2bc6300a-2b60-419d-9312-8817dc5c62b6",
   "metadata": {},
   "outputs": [],
   "source": [
    "\n",
    "\n",
    "dis_address = mf6.get_var_address(\"NDIM\", init['sim_name'].upper(), \"DIS\")\n",
    "dim = mf6.get_value(dis_address)\n",
    "print(\"NDIM:\", dim)\n",
    "\n",
    "print(mf6.get_value(mf6.get_var_address(\"YC\", init['sim_name'].upper(), \"DIS\")))\n",
    "\n",
    "print(mf6.get_value(mf6.get_var_address(\"X\", init['sim_name'].upper())))\n"
   ]
  },
  {
   "cell_type": "code",
   "execution_count": 5,
   "id": "c710b2f1-a3c3-481f-b9cc-656f1113129d",
   "metadata": {},
   "outputs": [
    {
     "name": "stdout",
     "output_type": "stream",
     "text": [
      "FloPy is using the following executable to run the model: ..\\..\\..\\..\\..\\mf6\\windows\\mf6.exe\n",
      "                                   MODFLOW 6\n",
      "                U.S. GEOLOGICAL SURVEY MODULAR HYDROLOGIC MODEL\n",
      "                            VERSION 6.6.1 02/10/2025\n",
      "\n",
      "   MODFLOW 6 compiled Feb 10 2025 17:37:25 with Intel(R) Fortran Intel(R) 64\n",
      "   Compiler Classic for applications running on Intel(R) 64, Version 2021.7.0\n",
      "                             Build 20220726_000000\n",
      "\n",
      "This software has been approved for release by the U.S. Geological \n",
      "Survey (USGS). Although the software has been subjected to rigorous \n",
      "review, the USGS reserves the right to update the software as needed \n",
      "pursuant to further analysis and review. No warranty, expressed or \n",
      "implied, is made by the USGS or the U.S. Government as to the \n",
      "functionality of the software and related material nor shall the \n",
      "fact of release constitute any such warranty. Furthermore, the \n",
      "software is released on condition that neither the USGS nor the U.S. \n",
      "Government shall be held liable for any damages resulting from its \n",
      "authorized or unauthorized use. Also refer to the USGS Water \n",
      "Resources Software User Rights Notice for complete use, copyright, \n",
      "and distribution information.\n",
      "\n",
      " \n",
      " MODFLOW runs in SEQUENTIAL mode\n",
      " \n",
      " Run start date and time (yyyy/mm/dd hh:mm:ss): 2025/07/09 16:40:57\n",
      " \n",
      " Writing simulation list file: mfsim.lst\n",
      " Using Simulation name file: mfsim.nam\n",
      " \n",
      "    Solving:  Stress period:     1    Time step:     1\n",
      " \n",
      " Run end date and time (yyyy/mm/dd hh:mm:ss): 2025/07/09 16:40:57\n",
      " Elapsed run time:  0.314 Seconds\n",
      " \n",
      " Normal termination of simulation.\n"
     ]
    },
    {
     "data": {
      "text/plain": [
       "(True, [])"
      ]
     },
     "execution_count": 5,
     "metadata": {},
     "output_type": "execute_result"
    }
   ],
   "source": [
    "o_sim.run_simulation()"
   ]
  },
  {
   "cell_type": "code",
   "execution_count": 7,
   "id": "aaaae015-5ae3-4630-9e30-ed5dd7a9ed2b",
   "metadata": {},
   "outputs": [
    {
     "name": "stdout",
     "output_type": "stream",
     "text": [
      "Head :  <class 'numpy.ndarray'> (1, 1, 120)\n",
      "qx :  <class 'numpy.ndarray'> (1, 1, 120)\n",
      "qy :  <class 'numpy.ndarray'> (1, 1, 120)\n",
      "qz :  <class 'numpy.ndarray'> (1, 1, 120)\n",
      "(1, 1, 120) \n",
      " [[[12.9 12.8 12.7 12.6 12.5 12.4 12.3 12.2 12.1 12.  11.9 11.8 11.7 11.6\n",
      "   11.5 11.4 11.3 11.2 11.1 11.  10.9 10.8 10.7 10.6 10.5 10.4 10.3 10.2\n",
      "   10.1 10.   9.9  9.8  9.7  9.6  9.5  9.4  9.3  9.2  9.1  9.   8.9  8.8\n",
      "    8.7  8.6  8.5  8.4  8.3  8.2  8.1  8.   7.9  7.8  7.7  7.6  7.5  7.4\n",
      "    7.3  7.2  7.1  7.   6.9  6.8  6.7  6.6  6.5  6.4  6.3  6.2  6.1  6.\n",
      "    5.9  5.8  5.7  5.6  5.5  5.4  5.3  5.2  5.1  5.   4.9  4.8  4.7  4.6\n",
      "    4.5  4.4  4.3  4.2  4.1  4.   3.9  3.8  3.7  3.6  3.5  3.4  3.3  3.2\n",
      "    3.1  3.   2.9  2.8  2.7  2.6  2.5  2.4  2.3  2.2  2.1  2.   1.9  1.8\n",
      "    1.7  1.6  1.5  1.4  1.3  1.2  1.1  1. ]]]\n"
     ]
    }
   ],
   "source": [
    "# --- Recuperamos los resultados de la simulación ---\n",
    "head = xmf6.gwf.get_head(o_gwf)\n",
    "qx, qy, qz, n_q = xmf6.gwf.get_specific_discharge(o_gwf)\n",
    "\n",
    "# Verificamos el tipo y dimensiones de los arreglos donde\n",
    "# están almacenados la carga hidráulica, el BUDGET, y la velocidad.\n",
    "print('Head : ', type(head), head.shape)\n",
    "print('qx : ', type(qx), qx.shape)\n",
    "print('qy : ', type(qy), qy.shape)\n",
    "print('qz : ', type(qz), qz.shape)\n",
    "\n",
    "print(head.shape, '\\n', head)"
   ]
  },
  {
   "cell_type": "code",
   "execution_count": 8,
   "id": "1da8f325-9487-4575-a594-5cc715696fbe",
   "metadata": {},
   "outputs": [
    {
     "name": "stdout",
     "output_type": "stream",
     "text": [
      "[[ 0.05  0.15  0.25  0.35  0.45  0.55  0.65  0.75  0.85  0.95  1.05  1.15\n",
      "   1.25  1.35  1.45  1.55  1.65  1.75  1.85  1.95  2.05  2.15  2.25  2.35\n",
      "   2.45  2.55  2.65  2.75  2.85  2.95  3.05  3.15  3.25  3.35  3.45  3.55\n",
      "   3.65  3.75  3.85  3.95  4.05  4.15  4.25  4.35  4.45  4.55  4.65  4.75\n",
      "   4.85  4.95  5.05  5.15  5.25  5.35  5.45  5.55  5.65  5.75  5.85  5.95\n",
      "   6.05  6.15  6.25  6.35  6.45  6.55  6.65  6.75  6.85  6.95  7.05  7.15\n",
      "   7.25  7.35  7.45  7.55  7.65  7.75  7.85  7.95  8.05  8.15  8.25  8.35\n",
      "   8.45  8.55  8.65  8.75  8.85  8.95  9.05  9.15  9.25  9.35  9.45  9.55\n",
      "   9.65  9.75  9.85  9.95 10.05 10.15 10.25 10.35 10.45 10.55 10.65 10.75\n",
      "  10.85 10.95 11.05 11.15 11.25 11.35 11.45 11.55 11.65 11.75 11.85 11.95]]\n"
     ]
    },
    {
     "data": {
      "image/png": "[encoded data removed]",
      "text/plain": [
       "<Figure size 1000x300 with 1 Axes>"
      ]
     },
     "metadata": {},
     "output_type": "display_data"
    }
   ],
   "source": [
    "# Obtenemos el objeto con la información de la discretización espacial\n",
    "grid = o_gwf.modelgrid\n",
    "\n",
    "# Coordenadas del centro de celdas para graficación\n",
    "x, _, _ = grid.xyzcellcenters\n",
    "print(x)\n",
    "with styles.USGSPlot():\n",
    "    plt.rcParams['font.family'] = 'DeJavu Sans'\n",
    "    plt.figure(figsize=(10,3))\n",
    "    plt.plot(x[0], head[0, 0], marker=\".\", ls =\"-\", mec=\"blue\", mfc=\"none\", markersize=\"1\", label = 'Head')\n",
    "    plt.xlim(0, 12)\n",
    "    plt.xticks(ticks=np.linspace(0, grid.extent[1],13))\n",
    "    plt.xlabel(\"Distance (cm)\")\n",
    "    plt.ylabel(\"Head\")\n",
    "    plt.legend()\n",
    "    plt.grid()\n",
    "    plt.show()"
   ]
  },
  {
   "cell_type": "code",
   "execution_count": 9,
   "id": "5f2900df-c82e-4bc8-81db-c24354b2e8bd",
   "metadata": {},
   "outputs": [
    {
     "data": {
      "image/png": "[encoded data removed]",
      "text/plain": [
       "<Figure size 1000x15 with 1 Axes>"
      ]
     },
     "metadata": {},
     "output_type": "display_data"
    }
   ],
   "source": [
    "plt.figure(figsize=(10,0.15))\n",
    "ax = plt.gca()\n",
    "pmv0 = flopy.plot.PlotMapView(o_gwf, ax=ax)\n",
    "pmv0.plot_grid(colors='dimgray', lw=0.5)\n",
    "plt.show()"
   ]
  },
  {
   "cell_type": "code",
   "execution_count": null,
   "id": "cf3122f7-0af2-4a9e-bf07-bc132eb4422d",
   "metadata": {},
   "outputs": [],
   "source": []
  }
 ],
 "metadata": {
  "kernelspec": {
   "display_name": "Python 3 (ipykernel)",
   "language": "python",
   "name": "python3"
  },
  "language_info": {
   "codemirror_mode": {
    "name": "ipython",
    "version": 3
   },
   "file_extension": ".py",
   "mimetype": "text/x-python",
   "name": "python",
   "nbconvert_exporter": "python",
   "pygments_lexer": "ipython3",
   "version": "3.13.3"
  }
 },
 "nbformat": 4,
 "nbformat_minor": 5
}
