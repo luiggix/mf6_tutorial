{
 "cells": [
  {
   "cell_type": "markdown",
   "metadata": {},
   "source": [
    "# MODFLOW API Paper\n",
    "\n",
    "## Development of a Custom MODFLOW Package using Python\n",
    "\n",
    "This notebook can be used to reproduce published results for the \"Development of a Custom MODFLOW Package using Python\" example, as reported in the MODFLOW 6 API paper (in progress). The MODFLOW 6 API Package is used to add the unknown and known terms for the selected evapotranspiration function to the diagonal of the coefficient matrix and the right-hand side, resepectively.  \n",
    "\n",
    "## Supported operating systems\n",
    "This example can be run on the following operating systems:\n",
    "\n",
    "* linux\n",
    "* macOS\n",
    "* Windows\n",
    "\n",
    "## Prerequisites\n",
    "To run the simulation and process the results, the following publicly available software and data are required:\n",
    "\n",
    "* __libmf6.dll__ (Windows) or __libmf6.so__ (linux or MacOS) pre-compiled dynamic-link library (dll)/shared object (so) and available from https://github.com/MODFLOW-USGS/modflow6-nightly-build. The operating specific pre-compiled dll/so should be installed in the `bin` subdirectory at the same level as the subdirectory containing this Jupyter Notebook (`../bin/`). \n",
    "* __modflowapi__ is an extension to xmipy. __modflowapi__ including an implementation of its abstract methods. The source is available at https://github.com/MODFLOW-USGS/modflowapi and the module can be installed from PyPI using `pip install modflowapi`. __xmipy__ is an extension to bmipy including an implementation of its abstract methods and the source is available at https://github.com/Deltares/xmipy.\n",
    "* __flopy__ is a python package that can be used to build, run, and post-process MODFLOW 6 models. The source is available at https://github.com/modflowpy/flopy and the package can be installed from PyPI using `pip install flopy` or conda using `conda install flopy`.\n",
    "\n",
    "## Running the simulation\n",
    "\n",
    "We start by importing the necessary packages:"
   ]
  },
  {
   "cell_type": "code",
   "execution_count": 2,
   "metadata": {},
   "outputs": [],
   "source": [
    "import os\n",
    "import sys\n",
    "import numpy as np\n",
    "import matplotlib as mpl\n",
    "from matplotlib import gridspec\n",
    "import matplotlib.pyplot as plt\n",
    "import flopy\n",
    "from modflowapi import ModflowApi"
   ]
  },
  {
   "cell_type": "code",
   "execution_count": 3,
   "metadata": {},
   "outputs": [],
   "source": [
    "sys.path.append(os.path.join(\"..\", \"common\"))\n",
    "from figspecs import USGSFigure"
   ]
  },
  {
   "cell_type": "markdown",
   "metadata": {},
   "source": [
    "### Configure plot settings"
   ]
  },
  {
   "cell_type": "code",
   "execution_count": 4,
   "metadata": {},
   "outputs": [],
   "source": [
    "fs = USGSFigure(figure_type=\"graph\", \n",
    "                family = 'DeJavu Serif') # Por que no tengo \"Arial Narrow\""
   ]
  },
  {
   "cell_type": "code",
   "execution_count": 5,
   "metadata": {},
   "outputs": [],
   "source": [
    "figwidth = 90 # mm\n",
    "figwidth = figwidth / 10 / 2.54 # inches"
   ]
  },
  {
   "cell_type": "code",
   "execution_count": 6,
   "metadata": {},
   "outputs": [],
   "source": [
    "color0, color1 = \"#440154FF\", \"#55C667FF\""
   ]
  },
  {
   "cell_type": "code",
   "execution_count": 7,
   "metadata": {},
   "outputs": [],
   "source": [
    "fig_path = os.path.join(\"..\", \"..\", \"doc\", \"figures\")"
   ]
  },
  {
   "cell_type": "markdown",
   "metadata": {},
   "source": [
    "### Model name and workspace"
   ]
  },
  {
   "cell_type": "code",
   "execution_count": 8,
   "metadata": {},
   "outputs": [
    {
     "name": "stdout",
     "output_type": "stream",
     "text": [
      "etmodel\n",
      ".\\etmodel\n",
      "etmodel.hds\n",
      "etmodel.cbc\n"
     ]
    }
   ],
   "source": [
    "name = \"etmodel\"\n",
    "ws = os.path.join(\".\", name)\n",
    "hds_name = name + \".hds\"\n",
    "cbc_name = name + \".cbc\"\n",
    "\n",
    "print(name)\n",
    "print(ws)\n",
    "print(hds_name)\n",
    "print(cbc_name)"
   ]
  },
  {
   "cell_type": "code",
   "execution_count": 9,
   "metadata": {},
   "outputs": [
    {
     "name": "stdout",
     "output_type": "stream",
     "text": [
      "win32 :  libmf6.dll\n"
     ]
    }
   ],
   "source": [
    "if sys.platform == \"win32\":\n",
    "    mf6_dll = \"libmf6.dll\"\n",
    "elif sys.platform == \"darwin\":\n",
    "    mf6_dll = \"libmf6.dylib\"\n",
    "else:\n",
    "    mf6_dll = \"libmf6.so\"\n",
    "\n",
    "print(sys.platform, \": \", mf6_dll)"
   ]
  },
  {
   "cell_type": "code",
   "execution_count": 10,
   "metadata": {},
   "outputs": [
    {
     "name": "stdout",
     "output_type": "stream",
     "text": [
      "C:\\Users\\luiggi\\Documents\\GitSites\\xmf6\\examples\\10_mf6_api\\emsdatasets\\bin\\libmf6.dll\n",
      "True\n",
      "C:\\Users\\luiggi\\Documents\\GitSites\\xmf6\\examples\\10_mf6_api\\emsdatasets\\CustomPackage\n"
     ]
    }
   ],
   "source": [
    "mf6_dll = os.path.abspath(os.path.join(\"..\", \"bin\", mf6_dll))\n",
    "init_ws = os.path.abspath(os.getcwd())\n",
    "print(mf6_dll, os.path.isfile(mf6_dll), init_ws, sep=\"\\n\")"
   ]
  },
  {
   "cell_type": "markdown",
   "metadata": {},
   "source": [
    "### Model parameters\n",
    "\n",
    "_Spatial and Temporal Discretization_"
   ]
  },
  {
   "cell_type": "code",
   "execution_count": 11,
   "metadata": {},
   "outputs": [
    {
     "name": "stdout",
     "output_type": "stream",
     "text": [
      "Area = 100.0\n",
      "Aquifer thickness = 5.0\n",
      "dz = 0.5\n",
      "Elevations = [0, -0.5, -1.0, -1.5, -2.0, -2.5, -3.0, -3.5, -4.0, -4.5, -5.0]\n"
     ]
    }
   ],
   "source": [
    "nlay, nrow, ncol = 10, 1, 1\n",
    "shape3d = (nlay, nrow, ncol)\n",
    "shape2d = (nrow, ncol)\n",
    "delr, delc = 10., 10\n",
    "area = delr * delc\n",
    "aquifer_thickness = 5.\n",
    "dz = aquifer_thickness / nlay\n",
    "elevations = [0] + np.arange(-dz, -(aquifer_thickness + dz), -dz).tolist()\n",
    "\n",
    "nper, pertime, nstp, tsmult = 1, 1000., 1000, 1.05\n",
    "\n",
    "print(\"Area =\",area)\n",
    "print(\"Aquifer thickness =\", aquifer_thickness)\n",
    "print(\"dz =\", dz)\n",
    "print(\"Elevations =\",elevations)"
   ]
  },
  {
   "cell_type": "markdown",
   "metadata": {},
   "source": [
    "_Hydraulic Properties_"
   ]
  },
  {
   "cell_type": "code",
   "execution_count": 12,
   "metadata": {},
   "outputs": [],
   "source": [
    "k, ss, sy = 1., 1.5e-5, 0.2"
   ]
  },
  {
   "cell_type": "markdown",
   "metadata": {},
   "source": [
    "_Initial Conditions_"
   ]
  },
  {
   "cell_type": "code",
   "execution_count": 13,
   "metadata": {},
   "outputs": [
    {
     "name": "stdout",
     "output_type": "stream",
     "text": [
      "h0 = 1\n"
     ]
    }
   ],
   "source": [
    "h0 = elevations[0] + 1\n",
    "\n",
    "print(\"h0 =\", h0)"
   ]
  },
  {
   "cell_type": "markdown",
   "metadata": {},
   "source": [
    "_Evapotranspiration Data_"
   ]
  },
  {
   "cell_type": "code",
   "execution_count": 14,
   "metadata": {},
   "outputs": [],
   "source": [
    "et_surface_depth, et_extinction_depth, et_rate = 0.25, 3., 6e-4"
   ]
  },
  {
   "cell_type": "markdown",
   "metadata": {},
   "source": [
    "### Build a one-dimensional model\n",
    "\n",
    "_Simulation Object_"
   ]
  },
  {
   "cell_type": "code",
   "execution_count": 15,
   "metadata": {},
   "outputs": [
    {
     "name": "stdout",
     "output_type": "stream",
     "text": [
      "name = etmodel\n",
      "ws = .\\etmodel\n"
     ]
    }
   ],
   "source": [
    "print(\"name =\", name)\n",
    "print(\"ws =\",ws)"
   ]
  },
  {
   "cell_type": "code",
   "execution_count": 16,
   "metadata": {},
   "outputs": [],
   "source": [
    "sim = flopy.mf6.MFSimulation(\n",
    "    sim_name=name, \n",
    "    sim_ws=ws, \n",
    "    verbosity_level=1, \n",
    "    memory_print_option=\"all\",\n",
    ")\n",
    "flopy.mf6.ModflowTdis(\n",
    "    sim,\n",
    "    time_units=\"days\",\n",
    "    nper=nper,\n",
    "    perioddata=((pertime, nstp, tsmult),),\n",
    ")\n",
    "flopy.mf6.ModflowIms(\n",
    "    sim, \n",
    "    print_option=\"summary\",\n",
    "    csv_inner_output_filerecord=\"{}.inner.csv\".format(name),\n",
    "    linear_acceleration=\"bicgstab\", \n",
    "    rcloserecord=[1e-6, \"strict\"],\n",
    "    inner_dvclose=1e-8,\n",
    "    outer_dvclose=1e-9,\n",
    ");"
   ]
  },
  {
   "cell_type": "code",
   "execution_count": 17,
   "metadata": {},
   "outputs": [
    {
     "name": "stdout",
     "output_type": "stream",
     "text": [
      "sim_name = etmodel\n",
      "sim_path = C:\\Users\\luiggi\\Documents\\GitSites\\xmf6\\examples\\10_mf6_api\\emsdatasets\\CustomPackage\\etmodel\n",
      "exe_name = mf6\n",
      "\n",
      "###################\n",
      "Package mfsim.nam\n",
      "###################\n",
      "\n",
      "package_name = mfsim.nam\n",
      "filename = mfsim.nam\n",
      "package_type = nam\n",
      "model_or_simulation_package = simulation\n",
      "simulation_name = etmodel\n",
      "\n",
      "\n",
      "###################\n",
      "Package etmodel.tdis\n",
      "###################\n",
      "\n",
      "package_name = etmodel.tdis\n",
      "filename = etmodel.tdis\n",
      "package_type = tdis\n",
      "model_or_simulation_package = simulation\n",
      "simulation_name = etmodel\n",
      "\n",
      "\n",
      "###################\n",
      "Package ims_-1\n",
      "###################\n",
      "\n",
      "package_name = ims_-1\n",
      "filename = etmodel.ims\n",
      "package_type = ims\n",
      "model_or_simulation_package = simulation\n",
      "simulation_name = etmodel\n",
      "\n",
      "\n",
      "\n"
     ]
    }
   ],
   "source": [
    "print(sim)"
   ]
  },
  {
   "cell_type": "markdown",
   "metadata": {},
   "source": [
    "_Groundwater Flow Model_"
   ]
  },
  {
   "cell_type": "code",
   "execution_count": 18,
   "metadata": {},
   "outputs": [],
   "source": [
    "gwf = flopy.mf6.ModflowGwf(sim, modelname=name, newtonoptions=\"NEWTON UNDER_RELAXATION\")\n",
    "flopy.mf6.ModflowGwfdis(gwf, length_units=\"meters\", nlay=nlay, nrow=nrow, ncol=ncol, \n",
    "                        delr=delr, delc=delc, top=elevations[0], botm=elevations[1:])\n",
    "flopy.mf6.ModflowGwfnpf(gwf, icelltype=1, k=k)\n",
    "flopy.mf6.ModflowGwfsto(gwf, iconvert=1, ss=ss, sy=sy)\n",
    "flopy.mf6.ModflowGwfic(gwf, strt=h0)\n",
    "flopy.mf6.ModflowGwfapi(gwf, \n",
    "                        pname=\"bmi-et\", \n",
    "                        maxbound=1,\n",
    ")\n",
    "flopy.mf6.ModflowGwfoc(gwf, printrecord={0: [(\"BUDGET\", \"ALL\")]})\n",
    "obs_lst = []\n",
    "for k in range(nlay):\n",
    "    obs_lst.append([\"H{:02d}\".format(k+1), \"HEAD\", (k, 0, 0)])\n",
    "obs = flopy.mf6.ModflowUtlobs(gwf, \n",
    "                              print_input=False, \n",
    "                              continuous={\"head.csv\": obs_lst}\n",
    "                             );"
   ]
  },
  {
   "cell_type": "code",
   "execution_count": 19,
   "metadata": {},
   "outputs": [
    {
     "name": "stdout",
     "output_type": "stream",
     "text": [
      "name = etmodel\n",
      "model_type = gwf6\n",
      "version = mf6\n",
      "model_relative_path = .\n",
      "\n",
      "###################\n",
      "Package dis\n",
      "###################\n",
      "\n",
      "package_name = dis\n",
      "filename = etmodel.dis\n",
      "package_type = dis\n",
      "model_or_simulation_package = model\n",
      "model_name = etmodel\n",
      "\n",
      "\n",
      "###################\n",
      "Package npf\n",
      "###################\n",
      "\n",
      "package_name = npf\n",
      "filename = etmodel.npf\n",
      "package_type = npf\n",
      "model_or_simulation_package = model\n",
      "model_name = etmodel\n",
      "\n",
      "\n",
      "###################\n",
      "Package sto\n",
      "###################\n",
      "\n",
      "package_name = sto\n",
      "filename = etmodel.sto\n",
      "package_type = sto\n",
      "model_or_simulation_package = model\n",
      "model_name = etmodel\n",
      "\n",
      "\n",
      "###################\n",
      "Package ic\n",
      "###################\n",
      "\n",
      "package_name = ic\n",
      "filename = etmodel.ic\n",
      "package_type = ic\n",
      "model_or_simulation_package = model\n",
      "model_name = etmodel\n",
      "\n",
      "\n",
      "###################\n",
      "Package bmi-et\n",
      "###################\n",
      "\n",
      "package_name = bmi-et\n",
      "filename = etmodel.api\n",
      "package_type = api\n",
      "model_or_simulation_package = model\n",
      "model_name = etmodel\n",
      "\n",
      "\n",
      "###################\n",
      "Package oc\n",
      "###################\n",
      "\n",
      "package_name = oc\n",
      "filename = etmodel.oc\n",
      "package_type = oc\n",
      "model_or_simulation_package = model\n",
      "model_name = etmodel\n",
      "\n",
      "\n",
      "###################\n",
      "Package obs_0\n",
      "###################\n",
      "\n",
      "package_name = obs_0\n",
      "filename = etmodel.obs\n",
      "package_type = obs\n",
      "model_or_simulation_package = model\n",
      "model_name = etmodel\n",
      "\n",
      "\n",
      "\n"
     ]
    }
   ],
   "source": [
    "print(gwf)"
   ]
  },
  {
   "cell_type": "code",
   "execution_count": 20,
   "metadata": {},
   "outputs": [
    {
     "name": "stdout",
     "output_type": "stream",
     "text": [
      "obs_lst =\n",
      "['H01', 'HEAD', (0, 0, 0)]\n",
      "['H02', 'HEAD', (1, 0, 0)]\n",
      "['H03', 'HEAD', (2, 0, 0)]\n",
      "['H04', 'HEAD', (3, 0, 0)]\n",
      "['H05', 'HEAD', (4, 0, 0)]\n",
      "['H06', 'HEAD', (5, 0, 0)]\n",
      "['H07', 'HEAD', (6, 0, 0)]\n",
      "['H08', 'HEAD', (7, 0, 0)]\n",
      "['H09', 'HEAD', (8, 0, 0)]\n",
      "['H10', 'HEAD', (9, 0, 0)]\n"
     ]
    }
   ],
   "source": [
    "print(\"obs_lst =\")\n",
    "for i in obs_lst:\n",
    "    print(i)"
   ]
  },
  {
   "cell_type": "code",
   "execution_count": 21,
   "metadata": {},
   "outputs": [
    {
     "name": "stdout",
     "output_type": "stream",
     "text": [
      "obs = package_name = obs_0\n",
      "filename = etmodel.obs\n",
      "package_type = obs\n",
      "model_or_simulation_package = model\n",
      "model_name = etmodel\n",
      "\n",
      "Block options\n",
      "--------------------\n",
      "print_input\n",
      "{internal}\n",
      "(False)\n",
      "\n",
      "\n",
      "Block continuous\n",
      "--------------------\n",
      "continuous\n",
      "{internal}\n",
      "([('H01', 'HEAD', (0, 0, 0), None) ('H02', 'HEAD', (1, 0, 0), None)\n",
      " ('H03', 'HEAD', (2, 0, 0), None) ('H04', 'HEAD', (3, 0, 0), None)\n",
      " ('H05', 'HEAD', (4, 0, 0), None) ('H06', 'HEAD', (5, 0, 0), None)\n",
      " ('H07', 'HEAD', (6, 0, 0), None) ('H08', 'HEAD', (7, 0, 0), None)\n",
      " ('H09', 'HEAD', (8, 0, 0), None) ('H10', 'HEAD', (9, 0, 0), None)])\n",
      "\n",
      "\n",
      "\n"
     ]
    }
   ],
   "source": [
    "print(\"obs =\", obs)"
   ]
  },
  {
   "cell_type": "markdown",
   "metadata": {},
   "source": [
    "_Write the Model Files_"
   ]
  },
  {
   "cell_type": "code",
   "execution_count": 22,
   "metadata": {},
   "outputs": [
    {
     "name": "stdout",
     "output_type": "stream",
     "text": [
      "writing simulation...\n",
      "  writing simulation name file...\n",
      "  writing simulation tdis package...\n",
      "  writing solution package ims_-1...\n",
      "  writing model etmodel...\n",
      "    writing model name file...\n",
      "    writing package dis...\n",
      "    writing package npf...\n",
      "    writing package sto...\n",
      "    writing package ic...\n",
      "    writing package bmi-et...\n",
      "    writing package oc...\n",
      "    writing package obs_0...\n"
     ]
    }
   ],
   "source": [
    "sim.write_simulation()"
   ]
  },
  {
   "cell_type": "markdown",
   "metadata": {},
   "source": [
    "_Retrieve a few processed items from the GWF model_"
   ]
  },
  {
   "cell_type": "code",
   "execution_count": 23,
   "metadata": {},
   "outputs": [
    {
     "name": "stdout",
     "output_type": "stream",
     "text": [
      "(1, 1) (10, 1, 1)\n",
      "[[0.]] [[-5.]]\n"
     ]
    }
   ],
   "source": [
    "gwf_top = gwf.dis.top.array\n",
    "gwf_botm = gwf.dis.botm.array\n",
    "print(gwf_top.shape, gwf_botm.shape)\n",
    "print(gwf_top, gwf_botm[-1])"
   ]
  },
  {
   "cell_type": "code",
   "execution_count": 24,
   "metadata": {},
   "outputs": [
    {
     "name": "stdout",
     "output_type": "stream",
     "text": [
      "[[[-0.5]]\n",
      "\n",
      " [[-1. ]]\n",
      "\n",
      " [[-1.5]]\n",
      "\n",
      " [[-2. ]]\n",
      "\n",
      " [[-2.5]]\n",
      "\n",
      " [[-3. ]]\n",
      "\n",
      " [[-3.5]]\n",
      "\n",
      " [[-4. ]]\n",
      "\n",
      " [[-4.5]]\n",
      "\n",
      " [[-5. ]]]\n"
     ]
    }
   ],
   "source": [
    "print(gwf_botm)"
   ]
  },
  {
   "cell_type": "markdown",
   "metadata": {},
   "source": [
    "### Functions to calculate ET rate\n",
    "\n",
    "_Exponential_"
   ]
  },
  {
   "cell_type": "code",
   "execution_count": 25,
   "metadata": {},
   "outputs": [],
   "source": [
    "def et_terms(head, function=\"constant\"):\n",
    "    top = elevations[0]\n",
    "    zs = top - et_surface_depth\n",
    "    ze = top - et_extinction_depth\n",
    "    if function == \"constant\":\n",
    "        hcof, rhs, Q = constant_et(ze, head[0])\n",
    "    elif function == \"linear\":\n",
    "        hcof, rhs, Q = linear_et(zs, ze, head[0])\n",
    "    elif function == \"exponential\":\n",
    "        hcof, rhs, Q = exponential_et(zs, ze, head[0])\n",
    "    return hcof, rhs, Q"
   ]
  },
  {
   "cell_type": "markdown",
   "metadata": {},
   "source": [
    "_Constant_\n",
    "\n",
    "$Q_{ET}$ is not head dependent so $hcof$ is always 0 and $rhs$ is equal to $Q_{max}$ when $h \\ge z_e$."
   ]
  },
  {
   "cell_type": "code",
   "execution_count": 26,
   "metadata": {},
   "outputs": [],
   "source": [
    "def constant_et(ze, h):\n",
    "    Qmax = et_rate * area\n",
    "    hcof = 0.\n",
    "    if h > ze:\n",
    "        rhs = Qmax\n",
    "    else:\n",
    "        rhs = 0.\n",
    "    return hcof, rhs, -rhs"
   ]
  },
  {
   "cell_type": "markdown",
   "metadata": {},
   "source": [
    "_Linear_\n",
    "\n",
    "- $Q_{ET}$ is not head dependent when $h > z_s$. In this case, $hcof$ is 0 and $rhs$ is equal to $Q_{max}$\n",
    "\n",
    "- $Q_{ET}$ is head dependent when $z_s \\ge h > ze$ and $Q_{ET} = Q_{max} \\left(1 -  \\frac{z_s - h}{z_s - z_e} \\right)$. In this case, $hcof = -Q_{max} / (z_s - z_e)$ and $rhs =Q_{max} - Q_{max} \\frac{z_s}{z_s - z_e}$\n",
    "\n",
    "- $Q_{ET}$ is 0 when $h < z_e$. In this case, $hcof$ is 0 and $rhs$ is equal to 0\n"
   ]
  },
  {
   "cell_type": "code",
   "execution_count": 27,
   "metadata": {},
   "outputs": [],
   "source": [
    "def linear_et(zs, ze, h):\n",
    "    Qmax = et_rate * area\n",
    "    depth = zs - ze\n",
    "    if h > zs:\n",
    "        hcof = 0.\n",
    "        rhs = Qmax\n",
    "    elif h > ze:\n",
    "        hcof = -Qmax / depth\n",
    "        rhs = Qmax - Qmax * zs / depth\n",
    "    else:\n",
    "        hcof = 0.\n",
    "        rhs = 0.\n",
    "    return hcof, rhs, hcof * h - rhs"
   ]
  },
  {
   "cell_type": "markdown",
   "metadata": {},
   "source": [
    "_Exponential_\n",
    "\n",
    "- $Q_{ET}$ is not head dependent when $h > z_s$. In this case, $hcof$ is 0 and $rhs$ is equal to $Q_{max}$\n",
    "\n",
    "- $Q_{ET}$ is head dependent when $z_s \\ge h > ze$ and $Q_{ET} = Q_{max} e ^{-3\\pi \\frac{z_s - h}{z_s - z_e}}$. $Q_{ET}$ is linearized using the Newton-Raphson formulation to improve convergence of the non-linear equation. In this case, $hcof = \\frac{\\partial Q_{max}}{\\partial h}$ and $rhs = -Q_{max} + \\frac{\\partial Q_{max}}{\\partial h} h^{k-1}$, where $h^{k-1}$ is the current head.\n",
    "\n",
    "- $Q_{ET}$ is 0 when $h < z_e$. In this case, $hcof$ is 0 and $rhs$ is equal to 0\n"
   ]
  },
  {
   "cell_type": "code",
   "execution_count": 28,
   "metadata": {},
   "outputs": [],
   "source": [
    "def exponential_et(zs, ze, h, exp_factor=3.):\n",
    "    Qmax = et_rate * area\n",
    "    depth = zs - ze\n",
    "    if h > zs:\n",
    "        Q = -Qmax\n",
    "        hcof = 0.\n",
    "        rhs = Qmax\n",
    "    elif h > ze:\n",
    "        exp_pow = -exp_factor * np.pi * (zs - h) / depth\n",
    "        Q = -Qmax * np.e ** exp_pow\n",
    "        derv = Q * (-exp_factor * np.pi / depth)\n",
    "        hcof = derv\n",
    "        rhs = -Q + derv * h\n",
    "    else:\n",
    "        Q = 0.\n",
    "        hcof = 0.\n",
    "        rhs = 0.\n",
    "    return hcof, rhs, Q   "
   ]
  },
  {
   "cell_type": "markdown",
   "metadata": {},
   "source": [
    "### Function to find the node number of the upper most active cell"
   ]
  },
  {
   "cell_type": "code",
   "execution_count": 29,
   "metadata": {},
   "outputs": [],
   "source": [
    "def get_node(head):\n",
    "    hc = head.copy().reshape(shape3d)\n",
    "    sat = hc > gwf_botm\n",
    "    kbot = nlay - 1\n",
    "    layer = np.ones(shape2d, dtype=np.int32) * -999\n",
    "    for k in range(nlay):\n",
    "        idx = (sat[k]) & (layer < 0)\n",
    "        layer[idx] = k\n",
    "    return (layer + 1).flatten()"
   ]
  },
  {
   "cell_type": "markdown",
   "metadata": {},
   "source": [
    "### Function to run bmi with a specific ET model"
   ]
  },
  {
   "cell_type": "code",
   "execution_count": 32,
   "metadata": {},
   "outputs": [],
   "source": [
    "def bmi_model(function=\"constant\", verbose=False):\n",
    "    success = False\n",
    "    \n",
    "    # create et observations\n",
    "    dtype = [(\"time\", np.float64), (\"ET\", np.float64)]\n",
    "    earr = np.zeros(nstp, dtype=dtype)\n",
    "\n",
    "    mf6_config_file = os.path.join(ws, 'mfsim.nam')\n",
    "    mf6 = ModflowApi(mf6_dll, working_directory=ws)\n",
    "\n",
    "    # initialize the model\n",
    "    mf6.initialize(mf6_config_file)\n",
    "\n",
    "    # time loop\n",
    "    current_time = mf6.get_current_time()\n",
    "    end_time = mf6.get_end_time()\n",
    "\n",
    "### <>---<>\n",
    "    dt = mf6.get_time_step()\n",
    "    print(\"Current time:\",current_time)\n",
    "    print(\"End time:\", end_time)\n",
    "    print(\"Dt:\", dt)\n",
    "### <>---<>\n",
    " \n",
    "    # get pointer to simulated heads\n",
    "    head_tag = mf6.get_var_address(\"X\", name.upper())\n",
    "    head = mf6.get_value_ptr(head_tag)\n",
    "    \n",
    "    # maximum outer iterations\n",
    "    max_iter = mf6.get_value(\n",
    "        mf6.get_var_address(\"MXITER\", \"SLN_1\")\n",
    "    )\n",
    "### <>---<>\n",
    "    print(\"Max iter:\", max_iter)\n",
    "### <>---<>\n",
    "    \n",
    "    # get pointers to API data\n",
    "    nodelist_address = mf6.get_var_address(\"NODELIST\", name.upper(), \"BMI-ET\")\n",
    "    nbound_address = mf6.get_var_address(\"NBOUND\", name.upper(), \"BMI-ET\")\n",
    "    nbound = mf6.get_value_ptr(nbound_address)\n",
    "    hcof_address = mf6.get_var_address(\"HCOF\", name.upper(), \"BMI-ET\")\n",
    "    rhs_address = mf6.get_var_address(\"RHS\", name.upper(), \"BMI-ET\")\n",
    "    \n",
    "    nodelist = mf6.get_value(nodelist_address)\n",
    "    hcof = mf6.get_value(hcof_address)\n",
    "    rhs = mf6.get_value(rhs_address)\n",
    "\n",
    "### <>---<>\n",
    "    print(\"head:\", type(head), head)\n",
    "    print(\"nodelist:\", type(mf6.get_value_ptr(nodelist_address)), mf6.get_value_ptr(nodelist_address))\n",
    "    print(\"hcof:\", type(hcof), hcof)\n",
    "    print(\"rhs:\", type(rhs), rhs)\n",
    "### <>---<>\n",
    "    \n",
    "    # set nodelist and nbound\n",
    "    node0 = 0\n",
    "    nodelist[0] = node0\n",
    "    nbound[0] = 1\n",
    "\n",
    "    # model time loop\n",
    "    idx = 0\n",
    "    while current_time < end_time:\n",
    "\n",
    "        # get dt and prepare for non-linear iterations\n",
    "        dt = mf6.get_time_step()\n",
    "        mf6.prepare_time_step(dt)\n",
    "\n",
    "### <>---<>\n",
    "#        print(\"Dt:\", dt)\n",
    "### <>---<>\n",
    "    \n",
    "        # convergence loop\n",
    "        kiter = 0\n",
    "        mf6.prepare_solve()\n",
    "\n",
    "        while kiter < max_iter:\n",
    "### <>---<>\n",
    "#            print(\"kiter:\", kiter)\n",
    "### <>---<>\n",
    "            # update the nodelist\n",
    "            nodelist[:] = get_node(head)\n",
    "            # update hcof and rhs rate\n",
    "            hcof[:], rhs[:], Qts = et_terms(\n",
    "                head, \n",
    "                function=function\n",
    "            )\n",
    "            # set values\n",
    "            mf6.set_value(nodelist_address, nodelist)\n",
    "            mf6.set_value(hcof_address, hcof)\n",
    "            mf6.set_value(rhs_address, rhs)\n",
    "            if verbose:\n",
    "                print(kiter, hcof[0], rhs[0])\n",
    "\n",
    "            # solve with updated well rate\n",
    "            has_converged = mf6.solve(1)\n",
    "            kiter += 1\n",
    "### <>---<>\n",
    "#            print(\"has_converged:\", has_converged)\n",
    "### <>---<>\n",
    "            \n",
    "            if has_converged:\n",
    "                if nodelist[0] != node0:\n",
    "                    node0 = nodelist[0]\n",
    "                    print(\"ET from layer {}\".format(node0))\n",
    "                if verbose:\n",
    "                    msg = \"Component {}\".format(1) + \\\n",
    "                          \" converged in {}\".format(kiter) + \" outer iterations\"\n",
    "                    print(msg)\n",
    "                break\n",
    "\n",
    "        # finalize time step\n",
    "        mf6.finalize_solve()\n",
    "\n",
    "        # finalize time step and update time\n",
    "        mf6.finalize_time_step()\n",
    "        current_time = mf6.get_current_time()\n",
    "\n",
    "### <>---<>\n",
    "#        print(\"Current time:\",current_time)\n",
    "### <>---<>\n",
    "    \n",
    "        # terminate if model did not converge\n",
    "        if not has_converged:\n",
    "            print(\"model did not converge\")\n",
    "            break\n",
    "        \n",
    "        # add \n",
    "        earr[\"time\"][idx] = current_time\n",
    "        earr[\"ET\"][idx] = Qts\n",
    "\n",
    "        # increment counter\n",
    "        idx += 1\n",
    "    \n",
    "    # cleanup\n",
    "    try:\n",
    "        mf6.finalize()\n",
    "        success = True\n",
    "    except:\n",
    "        raise RuntimeError\n",
    "    \n",
    "    # process the observations\n",
    "    fpth = os.path.join(ws, \"head.csv\")\n",
    "    harr = np.genfromtxt(fpth, names=True, delimiter=',')\n",
    "    fpth = os.path.join(ws, \"{}.inner.csv\".format(name))\n",
    "    imsarr = np.genfromtxt(fpth, names=True, delimiter=',')\n",
    "    \n",
    "    # return the observation data for this simulation\n",
    "    return success, harr, earr, imsarr"
   ]
  },
  {
   "cell_type": "markdown",
   "metadata": {},
   "source": [
    "Run the constant et function"
   ]
  },
  {
   "cell_type": "code",
   "execution_count": 33,
   "metadata": {},
   "outputs": [
    {
     "name": "stdout",
     "output_type": "stream",
     "text": [
      "Current time: 0.0\n",
      "End time: 1000.0\n",
      "Dt: 0.0\n",
      "Max iter: [25]\n",
      "head: <class 'numpy.ndarray'> [1. 1. 1. 1. 1. 1. 1. 1. 1. 1.]\n",
      "nodelist: <class 'numpy.ndarray'> [0]\n",
      "hcof: <class 'numpy.ndarray'> [0.]\n",
      "rhs: <class 'numpy.ndarray'> [0.]\n",
      "ET from layer 1\n",
      "ET from layer 2\n",
      "ET from layer 3\n",
      "ET from layer 4\n",
      "ET from layer 5\n",
      "ET from layer 6\n"
     ]
    }
   ],
   "source": [
    "success, h0, et0, ims0 = bmi_model(function=\"constant\", verbose=False)"
   ]
  },
  {
   "cell_type": "code",
   "execution_count": null,
   "metadata": {},
   "outputs": [],
   "source": [
    "success, h1, et1, ims1 = bmi_model(function=\"linear\", verbose=False)"
   ]
  },
  {
   "cell_type": "code",
   "execution_count": null,
   "metadata": {},
   "outputs": [],
   "source": [
    "success, h2, et2, ims2 = bmi_model(function=\"exponential\", verbose=False)"
   ]
  },
  {
   "cell_type": "markdown",
   "metadata": {},
   "source": [
    "Total number of inner iterations"
   ]
  },
  {
   "cell_type": "code",
   "execution_count": null,
   "metadata": {},
   "outputs": [],
   "source": [
    "ims0[\"total_inner_iterations\"].max(), ims1[\"total_inner_iterations\"].max(), ims2[\"total_inner_iterations\"].max()"
   ]
  },
  {
   "cell_type": "markdown",
   "metadata": {},
   "source": [
    "### Simulated model results"
   ]
  },
  {
   "cell_type": "code",
   "execution_count": null,
   "metadata": {},
   "outputs": [],
   "source": [
    "h0.dtype.names"
   ]
  },
  {
   "cell_type": "markdown",
   "metadata": {},
   "source": [
    "Calculate the timestep length"
   ]
  },
  {
   "cell_type": "code",
   "execution_count": null,
   "metadata": {},
   "outputs": [],
   "source": [
    "dt = np.zeros(h0.shape, dtype=np.float64)\n",
    "dt[0] = h0[\"time\"][0]\n",
    "dt[1:] = h0[\"time\"][1:] - h0[\"time\"][0:-1]"
   ]
  },
  {
   "cell_type": "code",
   "execution_count": null,
   "metadata": {},
   "outputs": [],
   "source": [
    "print(dt)"
   ]
  },
  {
   "cell_type": "markdown",
   "metadata": {},
   "source": [
    "Plot the simulated model results"
   ]
  },
  {
   "cell_type": "code",
   "execution_count": null,
   "metadata": {},
   "outputs": [],
   "source": [
    "# set values needed for the evapotranspiration functions\n",
    "surf_elev, surf, extdepth, qmax = elevations[0], et_surface_depth, et_extinction_depth, 1.\n",
    "head = np.arange(1, elevations[-1], -0.01)\n",
    "\n",
    "# plot the results\n",
    "xticks = (0., 0.25, 0.5, 0.75, 1.)\n",
    "yticks = np.arange(1, -6, -1)"
   ]
  },
  {
   "cell_type": "code",
   "execution_count": null,
   "metadata": {},
   "outputs": [],
   "source": [
    "figheight = figwidth * 1.25\n",
    "box = dict(facecolor=\"none\", edgecolor=\"none\", pad=5, alpha=0.2)\n",
    "fig = plt.figure(figsize=(figwidth, figheight),\n",
    "                 constrained_layout=True,)\n",
    "gs = gridspec.GridSpec(10,1, figure=fig)\n",
    "ax0 = fig.add_subplot(gs[0:4, :])\n",
    "ax1 = fig.add_subplot(gs[4:8, :])\n",
    "ax2 = fig.add_subplot(gs[8:, :])\n",
    "\n",
    "for ax in (ax0, ax1, ax2):\n",
    "    ax.set_xlim(0, 1000)\n",
    "    \n",
    "\n",
    "ax = ax0\n",
    "ax.set_ylim(yticks[-1], yticks[0])\n",
    "ax.set_xticks([0, 250, 500, 750, 1000])\n",
    "ax.plot(h0[\"time\"], h0[\"H01\"], color=color1, lw=1, label=\"Constant\", clip_on=False)\n",
    "ax.plot(h1[\"time\"], h1[\"H01\"], color=color1, ls=\"--\", lw=1, label=\"Linear\", clip_on=False)\n",
    "ax.plot(h2[\"time\"], h2[\"H01\"], color=color1, ls=\":\", lw=1, label=\"Exponential\", clip_on=False)\n",
    "\n",
    "# plot et parameters and top of aquifer\n",
    "ax.axhline(surf_elev, color=color0, lw=1.25, label=\"Land surface\")\n",
    "ax.axhline(surf_elev-surf, color=color0, lw=0.5, ls=\"--\", label=\"ET surface\")\n",
    "ax.axhline(surf_elev-extdepth, color=color0, ls=\":\", lw=0.5, label=\"ET extinction\")\n",
    "\n",
    "ax.set_ylabel(\"Water Level (m)\", bbox=box)\n",
    "ax.xaxis.set_ticklabels([])\n",
    "fs.heading(ax, idx=0)\n",
    "fs.remove_edge_ticks(ax);\n",
    "\n",
    "ax = ax1\n",
    "ax.set_xticks([0, 250, 500, 750, 1000])\n",
    "\n",
    "ax.plot(h0[\"time\"], -(et0[\"ET\"] * dt).cumsum(), color=color1, lw=1, label=\"Constant\")\n",
    "ax.plot(h1[\"time\"], -(et1[\"ET\"] * dt).cumsum(), color=color1, ls=\"--\", lw=1, label=\"Linear\")\n",
    "ax.plot(h2[\"time\"], -(et2[\"ET\"] * dt).cumsum(), color=color1, ls=\":\", lw=1, label=\"Exponential\")\n",
    "\n",
    "ax.xaxis.set_tick_params(which='both', labelbottom=True)\n",
    "ax.xaxis.set_ticklabels([\"0\", \"250\", \"500\", \"750\", \"1,000\"])\n",
    "ax.set_xlabel(\"Simulation time (d)\")\n",
    "ax.set_ylabel(\"Cumulative evapotranspiration (m$^3$)\", bbox=box)\n",
    "fs.heading(ax, idx=1)\n",
    "fs.remove_edge_ticks(ax);\n",
    "\n",
    "ax = ax2\n",
    "xy0 = (-100, -100)\n",
    "ax.set_ylim(0, 1)\n",
    "ax.set_axis_off()\n",
    "\n",
    "# fake data to set up legend\n",
    "ax.plot(xy0, xy0, color=color1, lw=1, label=\"Constant\")\n",
    "ax.plot(xy0, xy0, color=color1, ls=\"--\", lw=1, label=\"Linear\")\n",
    "ax.plot(xy0, xy0, color=color1, ls=\":\", lw=1, label=\"Exponential\")\n",
    "\n",
    "# plot et parameters and top of aquifer\n",
    "ax.axhline(xy0[0], color=color0, lw=1.25, label=\"Land surface\")\n",
    "ax.axhline(xy0[0], color=color0, lw=0.5, ls=\"--\", label=\"ET surface ($z_s$)\")\n",
    "ax.axhline(xy0[0], color=color0, ls=\":\", lw=0.5, label=\"ET extinction ($z_e$)\")\n",
    "fs.graph_legend(ax, ncol=2, loc=\"center\");\n",
    "\n",
    "if os.path.isdir(fig_path):\n",
    "    fpth = os.path.join(fig_path, \"ex-1-simet.png\")\n",
    "    plt.savefig(fpth, dpi=600);"
   ]
  },
  {
   "cell_type": "code",
   "execution_count": null,
   "metadata": {},
   "outputs": [],
   "source": [
    "(et0[\"ET\"] * dt).cumsum()[-1], (et1[\"ET\"] * dt).cumsum()[-1], (et2[\"ET\"] * dt).cumsum()[-1]"
   ]
  },
  {
   "cell_type": "code",
   "execution_count": null,
   "metadata": {},
   "outputs": [],
   "source": [
    "h0[\"H01\"][-1], h1[\"H01\"][-1], h2[\"H01\"][-1]"
   ]
  },
  {
   "cell_type": "code",
   "execution_count": null,
   "metadata": {},
   "outputs": [],
   "source": []
  }
 ],
 "metadata": {
  "kernelspec": {
   "display_name": "Python 3 (ipykernel)",
   "language": "python",
   "name": "python3"
  },
  "language_info": {
   "codemirror_mode": {
    "name": "ipython",
    "version": 3
   },
   "file_extension": ".py",
   "mimetype": "text/x-python",
   "name": "python",
   "nbconvert_exporter": "python",
   "pygments_lexer": "ipython3",
   "version": "3.13.3"
  }
 },
 "nbformat": 4,
 "nbformat_minor": 4
}
