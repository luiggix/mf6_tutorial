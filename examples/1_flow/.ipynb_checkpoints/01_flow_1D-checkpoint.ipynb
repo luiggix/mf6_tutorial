{
 "cells": [
  {
   "cell_type": "markdown",
   "id": "95e30ac9-f801-4612-96a1-63bc17803723",
   "metadata": {
    "editable": true,
    "slideshow": {
     "slide_type": ""
    },
    "tags": []
   },
   "source": [
    "# Ejemplo: 32 MOC3D Problem 1 (solo flujo)\n",
    "\n",
    "**Resumen**. \n",
    "\n",
    "Se resuelve un problema de flujo en una dimensión usando los datos del ejemplo descrito en [1]. \n",
    "\n",
    "<p xmlns:cc=\"http://creativecommons.org/ns#\" xmlns:dct=\"http://purl.org/dc/terms/\"><a property=\"dct:title\" rel=\"cc:attributionURL\" href=\"https://github.com/luiggix/mf6_tutorial/\">MODFLOW 6: tutorial</a> (1_flow/01_flow_1D.ipynb) by <b>Luis M. de la Cruz Salas (2025)</b> is licensed under <a href=\"http://creativecommons.org/licenses/by-sa/4.0/?ref=chooser-v1\" target=\"_blank\" rel=\"license noopener noreferrer\" style=\"display:inline-block;\">Attribution-ShareAlike 4.0 International<img style=\"height:22px!important;margin-left:3px;vertical-align:text-bottom;\" src=\"https://mirrors.creativecommons.org/presskit/icons/cc.svg?ref=chooser-v1\"><img style=\"height:22px!important;margin-left:3px;vertical-align:text-bottom;\" src=\"https://mirrors.creativecommons.org/presskit/icons/by.svg?ref=chooser-v1\"><img style=\"height:22px!important;margin-left:3px;vertical-align:text-bottom;\" src=\"https://mirrors.creativecommons.org/presskit/icons/sa.svg?ref=chooser-v1\"></a>.</p> "
   ]
  },
  {
   "cell_type": "markdown",
   "id": "bb3a1076-be9d-4bf7-b181-67757a6be556",
   "metadata": {},
   "source": [
    "# Descripción\n",
    "\n",
    "## Discretización temporal\n",
    "\n",
    "|Parameter | Value| Units | Variable |\n",
    "|---:|:---:|:---:|:---|\n",
    "|Number of stress periods (NPER) | $1$ | | `tdis[\"nper\"]` |\n",
    "|Total time | $120$ | s | `tdis[\"perioddata\"][0][0]` |\n",
    "|Number of time steps (NSTP) | $1$ | | `tdis[\"perioddata\"][0][1]` |\n",
    "|Multiplier (TSMULT)| $1$ | | `tdis[\"perioddata\"][0][2]` |\n",
    "\n",
    "donde `i` $= 0,\\dots,$NPER$-1$. "
   ]
  },
  {
   "cell_type": "markdown",
   "id": "fca9f588-961e-472f-b721-1dbd992e02af",
   "metadata": {},
   "source": [
    "## Discretización espacial.\n",
    "\n",
    "* El modelo de malla consiste de $1$ capa, $120$ columnas y $1$ renglón.\n",
    "* La longitud del renglón es de $12$ [cm].\n",
    "* La longitud de la columna es $0.1$ [cm].\n",
    "* Con la información anterior se calcula el ancho del renglón, `DELC`, y de las columnas, `DELR`, que ambos casos debe ser $0.1$ [cm].\n",
    "* La parte superior (`TOP`) de la celda es $1.0$ [cm] y la parte inferior (`BOTTOM`) es cero.\n",
    "* La longitud de la capa es igual a $1.0$ [cm], valor que se calcula de `|TOP - BOTTOM|`.\n",
    "\n",
    "\n",
    "|Parameter | Value| Units | Variable |\n",
    "|---:|:---:|:---:|:---|\n",
    "|Length of system (rows) | $12.0$ | cm | |\n",
    "|Number of layers | $1$ | | `dis[\"nlay\"]`|\n",
    "|Number of rows | $1$ | | `dis[\"nrow\"]`|\n",
    "|Number of columns | $120$ | | `dis[\"ncol\"]`|\n",
    "|Column width | $0.1$ | cm | `dis[\"delr\"]`|\n",
    "|Row width | $0.1$ | cm | `dis[\"delc\"]`|\n",
    "|Top of the model | $1.0$ | cm | `dis[\"top\"]`|\n",
    "|Layer bottom elevation (cm) | $0$ | cm | `dis[\"botm\"]`|"
   ]
  },
  {
   "cell_type": "markdown",
   "id": "79754531-72b5-4c86-aeba-6212b9ea38e5",
   "metadata": {},
   "source": [
    "## Parámetros físicos.\n",
    "\n",
    "|Parameter | Value| Units | Variable |\n",
    "|---:|:---:|:---:|:---|\n",
    "|Specific discharge | $0.1$ | cm s$^{-1}$ | `phys[\"specific_discharge\"]` |\n",
    "|Hydraulic conductivity | $0.01$ | cm s$^{-1}$ | `phys[\"hydraulic_conductivity\"]` |\n",
    "|Source concentration | $1.0$ | unitless | `phys[\"source_concentration\"]` |"
   ]
  },
  {
   "cell_type": "markdown",
   "id": "eaf3c753-882f-445d-a039-953c3b3435d5",
   "metadata": {
    "editable": true,
    "slideshow": {
     "slide_type": ""
    },
    "tags": []
   },
   "source": [
    "## Importación de bibliotecas"
   ]
  },
  {
   "cell_type": "code",
   "execution_count": null,
   "id": "a964b724-e70c-4c84-a329-139737c8a6aa",
   "metadata": {},
   "outputs": [],
   "source": [
    "#pip install git+https://github.com/luiggix/xmf6"
   ]
  },
  {
   "cell_type": "code",
   "execution_count": null,
   "id": "55c7b333-b0eb-4003-805a-a470e546824f",
   "metadata": {},
   "outputs": [],
   "source": [
    "import numpy as np\n",
    "import matplotlib.pyplot as plt\n",
    "import flopy\n",
    "import os\n",
    "import xmf6"
   ]
  },
  {
   "cell_type": "markdown",
   "id": "1db2ab4a-2c87-48d9-a525-e9636d42d79a",
   "metadata": {},
   "source": [
    "# Parámetros físicos"
   ]
  },
  {
   "cell_type": "code",
   "execution_count": null,
   "id": "331f0cbe-73d9-4347-92af-6b58579ec122",
   "metadata": {},
   "outputs": [],
   "source": [
    "phys = dict(\n",
    "    specific_discharge = 0.1,  # Specific discharge ($cm s^{-1}$)\n",
    "    hydraulic_conductivity = 0.01,  # Hydraulic conductivity ($cm s^{-1}$)\n",
    "    source_concentration = 1.0,  # Source concentration (unitless)\n",
    ")\n",
    "xmf6.nice_print(phys, \"Parámetros físicos\")"
   ]
  },
  {
   "cell_type": "markdown",
   "id": "a42b8039-7886-4a0d-8b46-d97929b340fc",
   "metadata": {},
   "source": [
    "# Solución del problema."
   ]
  },
  {
   "cell_type": "code",
   "execution_count": null,
   "id": "1a3565ab-e11e-42ae-965f-809273f4116e",
   "metadata": {},
   "outputs": [],
   "source": [
    "# Parámetros de la simulación (flopy.mf6.MFSimulation)\n",
    "init = {\n",
    "    'sim_name' : \"flow\",\n",
    "    'exe_name' : \"C:\\\\Users\\\\luiggi\\\\Documents\\\\GitSites\\\\mf6_tutorial\\\\mf6\\\\windows\\\\mf6\",\n",
    "#    'exe_name' : \"../../mf6/macosarm/mf6\",\n",
    "    'sim_ws' : \"output_flow_1D\"\n",
    "}\n",
    "\n",
    "# Parámetros para el tiempo (flopy.mf6.ModflowTdis)\n",
    "tdis = {\n",
    "    'units': \"seconds\",\n",
    "    'nper' : 1,\n",
    "    'perioddata': [(120.0, 1, 1.0)]\n",
    "}\n",
    "\n",
    "# Parámetros para la solución numérica (flopy.mf6.ModflowIms)\n",
    "ims = {}\n",
    "\n",
    "# Parámetros para el modelo de flujo (flopy.mf6.ModflowGwf)\n",
    "gwf = { \n",
    "    'modelname': init[\"sim_name\"],\n",
    "#    'model_nam_file': f\"{init[\"sim_name\"]}.nam\",\n",
    "    'save_flows': True\n",
    "}\n",
    "\n",
    "# Parámetros para la discretización espacial (flopy.mf6.ModflowGwfdis)\n",
    "dis = {\n",
    "    'length_units' : \"centimeters\",\n",
    "    'nlay': 1, \n",
    "    'nrow': 1, \n",
    "    'ncol': 120,\n",
    "    'delr': 0.1, \n",
    "    'delc': 0.1, \n",
    "    'top' : 1.0, \n",
    "    'botm': 0.0 \n",
    "}\n",
    "\n",
    "# Parámetros para las condiciones iniciales (flopy.mf6.ModflowGwfic)\n",
    "ic = {\n",
    "    'strt': 1.0\n",
    "}\n",
    "\n",
    "# Parámetros para las condiciones de frontera (flopy.mf6.ModflowGwfchd)\n",
    "chd = {\n",
    "    'stress_period_data': [[(0, 0, dis['ncol'] - 1), 1.0]],     \n",
    "}\n",
    "\n",
    "# Parámetros para las propiedades de flujo (flopy.mf6.ModflowGwfnpf)\n",
    "npf = {\n",
    "    'save_specific_discharge': True,\n",
    "    'save_saturation': True,\n",
    "    'icelltype':  0,\n",
    "    'k': 0.01  # Hydraulic conductivity ($cm s^{-1}$) \n",
    "}\n",
    "\n",
    "phys = dict(\n",
    "    specific_discharge = 0.1,  # Specific discharge ($cm s^{-1}$)\n",
    "    hydraulic_conductivity = 0.01,  # Hydraulic conductivity ($cm s^{-1}$)\n",
    "    source_concentration = 1.0,  # Source concentration (unitless)\n",
    ")\n",
    "# Parámetros para las propiedades de los pozos (flopy.mf6.ModflowGwfwel)\n",
    "phys[\"specific_discharge\"] = 0.1 # Specific discharge ($cm s^{-1}$)\n",
    "phys[\"source_concentration\"] = 1.0  # Source concentration (unitless)\n",
    "q = phys[\"specific_discharge\"] * dis['delc'] * dis['delr'] * dis['top']\n",
    "\n",
    "well = {\n",
    "    'stress_period_data': [[(0, 0, 0), q, phys[\"source_concentration\"],]],\n",
    "    'pname': \"WEL-1\",\n",
    "    'auxiliary' : [\"CONCENTRATION\"],\n",
    "#    'save_flows': True\n",
    "}\n",
    "\n",
    "# Parámetros para almacenar y mostrar la salida de la simulación (flopy.mf6.ModflowGwfoc)\n",
    "oc = {\n",
    "    'budget_filerecord': f\"{init['sim_name']}.bud\",\n",
    "    'head_filerecord': f\"{init['sim_name']}.hds\",\n",
    "    'saverecord': [(\"HEAD\", \"ALL\"), (\"BUDGET\", \"ALL\")],\n",
    "#    'printrecord': [(\"HEAD\", \"ALL\")]\n",
    "}\n",
    "\n",
    "# --- Inicialización de la simulación ---\n",
    "o_sim = xmf6.common.init_sim(silent = True, init = init, tdis = tdis, ims = ims)\n",
    "o_gwf, packages = xmf6.gwf.set_packages(o_sim, silent = True,\n",
    "                                        gwf = gwf, \n",
    "                                        dis = dis, ic = ic, chd = chd, npf = npf, oc = oc, well = well)\n",
    "\n",
    "# --- Escritura de archivos ---\n",
    "o_sim.write_simulation(silent = True)\n",
    "\n",
    "# --- Ejecución de la simulación ---\n",
    "o_sim.run_simulation(silent = True)\n",
    "\n",
    "# --- Recuperamos los resultados de la simulación ---\n",
    "head = xmf6.gwf.get_head(o_gwf)\n",
    "qx, qy, qz, n_q = xmf6.gwf.get_specific_discharge(o_gwf, text=\"DATA-SPDIS\")\n",
    "\n",
    "x, y, z = o_gwf.modelgrid.xyzcellcenters\n",
    "row_length = o_gwf.modelgrid.extent[1]\n",
    "\n",
    "# --- Definición de la figura ---\n",
    "fig, (ax1, ax2) = plt.subplots(2, 1, figsize =(8,4), height_ratios=[2,0.1])\n",
    "\n",
    "# --- Gráfica 1. ---\n",
    "#plt.rcParams['font.family'] = 'DeJavu Sans'\n",
    "ax1.plot(x[0], head[0, 0], marker=\".\", ls =\"-\", mec=\"blue\", mfc=\"none\", markersize=\"1\", label = 'Head')\n",
    "ax1.set_xlim(0, 12)\n",
    "ax1.set_xticks(ticks=np.linspace(0, row_length,13))\n",
    "ax1.set_xlabel(\"Distance (cm)\")\n",
    "ax1.set_ylabel(\"Head\")\n",
    "ax1.grid()\n",
    "\n",
    "# --- Gráfica 2. ---\n",
    "pmv = flopy.plot.PlotMapView(o_gwf, ax=ax2)\n",
    "pmv.plot_grid(colors='dimgray', lw=0.5)\n",
    "ax2.set_yticks(ticks=[0, 0.1])#, fontsize=8)\n",
    "ax2.set_title(\"Mesh\")\n",
    "plt.tight_layout()\n",
    "plt.show()"
   ]
  },
  {
   "cell_type": "markdown",
   "id": "b4b507c7-4fe5-4efb-97a4-4c17c12b8f0b",
   "metadata": {},
   "source": [
    "# Referencias\n",
    "\n",
    "[1] MODFLOW 6 – Example problems, MODFLOW 6 Development Team, with contributions from Chieh Ying Chen and Mike Toews 02/07/2024.**  **32 MOC3D Problem 1**. (Archivo: `mf6examples.pdf` del directorio `doc` de la distribución de MODFLOW 6)."
   ]
  },
  {
   "cell_type": "code",
   "execution_count": null,
   "id": "0171103e-3c4a-4d96-b89a-9d0e1a7bbcbd",
   "metadata": {},
   "outputs": [],
   "source": []
  }
 ],
 "metadata": {
  "kernelspec": {
   "display_name": "Python 3 (ipykernel)",
   "language": "python",
   "name": "python3"
  },
  "language_info": {
   "codemirror_mode": {
    "name": "ipython",
    "version": 3
   },
   "file_extension": ".py",
   "mimetype": "text/x-python",
   "name": "python",
   "nbconvert_exporter": "python",
   "pygments_lexer": "ipython3",
   "version": "3.13.3"
  }
 },
 "nbformat": 4,
 "nbformat_minor": 5
}
