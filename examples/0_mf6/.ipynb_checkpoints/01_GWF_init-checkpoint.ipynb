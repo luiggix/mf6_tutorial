{
 "cells": [
  {
   "cell_type": "markdown",
   "id": "101741d6-6f63-4607-a830-45caadb87f09",
   "metadata": {},
   "source": [
    "# MODFLOW 6: inicializando una simulación.\n",
    "\n",
    "\n",
    "## Resumen.\n",
    "\n",
    "El propósito de este documento es describir cómo se realiza una simulación de flujo usando el modelo GWF de MODFLOW 6. Esta descripción combina los conceptos descritos en la documentación de MODFLOW 6 y en el software [***flopy***](https://www.usgs.gov/software/flopy-python-package-creating-running-and-post-processing-modflow-based-models) ([repositorio](https://github.com/modflowpy/flopy), [documentación](https://flopy.readthedocs.io/en/3.3.2/index.html)). El software flopy permite simplificar la generación de los archivos de entrada para una simulación a través de Python, además de realizar la ejecución de la simulación y el post-procesamiento de la salida. No se hace una descripción detallada, sino que solo se explican los conceptos principales y se relacionan con los archivos de entrada requeridos por MODFLOW 6 y con los objetos de flopy. Se hace una configuración de una simulación agregando las componentes *Timing module*, *Numerical Solution* (IMS) y un *GWF model*, usando parámetros reducidos.\n",
    "\n",
    "<p xmlns:cc=\"http://creativecommons.org/ns#\" xmlns:dct=\"http://purl.org/dc/terms/\"><a property=\"dct:title\" rel=\"cc:attributionURL\" href=\"https://github.com/luiggix/mf6_tutorial/\">MODFLOW 6: tutorial</a> (0_mf6/01_GWF_init.ipynb) by <b>Luis M. de la Cruz Salas (2025)</b> is licensed under <a href=\"http://creativecommons.org/licenses/by-sa/4.0/?ref=chooser-v1\" target=\"_blank\" rel=\"license noopener noreferrer\" style=\"display:inline-block;\">Attribution-ShareAlike 4.0 International<img style=\"height:22px!important;margin-left:3px;vertical-align:text-bottom;\" src=\"https://mirrors.creativecommons.org/presskit/icons/cc.svg?ref=chooser-v1\"><img style=\"height:22px!important;margin-left:3px;vertical-align:text-bottom;\" src=\"https://mirrors.creativecommons.org/presskit/icons/by.svg?ref=chooser-v1\"><img style=\"height:22px!important;margin-left:3px;vertical-align:text-bottom;\" src=\"https://mirrors.creativecommons.org/presskit/icons/sa.svg?ref=chooser-v1\"></a>.</p> "
   ]
  },
  {
   "cell_type": "markdown",
   "id": "55fe4e62-9d12-4191-8140-0c663bc78816",
   "metadata": {},
   "source": [
    "<div class=\"alert alert-block alert-info\">\n",
    "\n",
    "## Ejemplo. Las tres componentes de una simulación con flopy.\n",
    "\n",
    "Una simulación simple con GWF requiere de las componentes que se muestran en la siguiente figura:\n",
    "\n",
    "<figure>\n",
    "  <img src=\"../figures/modflow00.png\" width=300px hspace=\"5\" vspace=\"5\"/>\n",
    "  <figcaption>Figura 1. Diagrama que muestra las componentes que se usan para la simulación de un solo modelo GWF. Las componentes son: (1) una simulación (que es el programa principal), (2) una componente para gestionar el tiempo, (3) una componente para gestionar la solución numérica y (4) un único modelo GWF. Figura tomada de [1].\n",
    "  </figcaption>\n",
    "</figure> \n",
    "\n",
    "Para definir las tres componentes mostradas en la figura anterior haremos uso de la biblioteca *flopy*. Realizaremos este proceso para un ejemplo simple, cuya única utilidad es explicar el proceso (sin resolver un problema de flujo).\n",
    "\n",
    "</div>"
   ]
  },
  {
   "cell_type": "markdown",
   "id": "a80f0293-562a-45df-a16c-17ae559431de",
   "metadata": {},
   "source": [
    "### Paso 1. Inicialización de la simulación.\n",
    "\n",
    "La simulación se inicia creando un objeto de la clase [`flopy.mf6.MFSimulation`](https://flopy.readthedocs.io/en/3.3.2/source/flopy.mf6.modflow.mfsimulation.html) para cargar, construir y salvar los archivos de una simulación de MODFLOW 6. Se debe crear un objeto de este tipo antes que cualquier otro objeto de las componentes o paquetes que se vayan a usar en la simulación.\n",
    "\n",
    "A continuación creamos el objeto `o_sim` de la clase `flopy.mf6.MFSimulation` como sigue:"
   ]
  },
  {
   "cell_type": "code",
   "execution_count": 1,
   "id": "9e6d5ba4-f2d7-45bd-8237-66eb85381fc9",
   "metadata": {},
   "outputs": [],
   "source": [
    "# Solo requerimos incluir la biblioteca flopy\n",
    "import flopy"
   ]
  },
  {
   "cell_type": "code",
   "execution_count": 2,
   "id": "0b966059-bf13-460c-b8c7-06750e026a5d",
   "metadata": {},
   "outputs": [],
   "source": [
    "# --- Ruta a los ejecutables de MODFLOW 6. Opciones de SO's: linux, macos, macosarm, windows\n",
    "exe_name = \"C:\\\\Users\\\\luiggi\\\\Documents\\\\GitSites\\\\mf6_tutorial\\\\mf6\\\\windows\\\\mf6\"\n",
    "#exe_name = \"../../mf6/macosarm/mf6\"\n",
    "\n",
    "# Creación del objeto 'o_sim' para la simulación; es el que controla todo.\n",
    "o_sim = flopy.mf6.MFSimulation(\n",
    "    sim_name = \"flow\", \n",
    "    exe_name = exe_name, \n",
    "    sim_ws   = \"sandbox1\" \n",
    ")"
   ]
  },
  {
   "cell_type": "markdown",
   "id": "ed5965e7-d5ff-4fb5-902e-c0248cb02a58",
   "metadata": {},
   "source": [
    "* Al ejecutar la celda de código anterior, se crea la carpeta `sandbox1` en donde se almacenarán todos los archivos de entrada y de salida que genera MODFLOW 6. Este es el espacio de trabajo (*workspace*) que por ahora estará vacío.\n",
    "\n",
    "* El nombre de la simulación será `flow` y este nombre será usado para generar archivos de entrada y salida con las extensiones correspondientes.\n",
    "\n",
    "* Una vez creado un objeto de esta clase, los demás objetos que contribuyen a la simulación se deben enlazar al objeto de la simulación `o_sim`.\n",
    "\n",
    "* Con la instrucción `print(o_sim)` es posible imprimir información de los atributos del objeto `o_sim`, como se hace en la siguiente celda:\n"
   ]
  },
  {
   "cell_type": "code",
   "execution_count": 3,
   "id": "2f2df897-4e2b-4ecc-a421-c48dc9092e1e",
   "metadata": {},
   "outputs": [
    {
     "name": "stdout",
     "output_type": "stream",
     "text": [
      "sim_name = flow\n",
      "sim_path = C:\\Users\\luiggi\\Documents\\GitSites\\mf6_tutorial\\examples\\0_mf6\\sandbox1\n",
      "exe_name = C:\\Users\\luiggi\\Documents\\GitSites\\mf6_tutorial\\mf6\\windows\\mf6\n",
      "\n",
      "###################\n",
      "Package mfsim.nam\n",
      "###################\n",
      "\n",
      "package_name = mfsim.nam\n",
      "filename = mfsim.nam\n",
      "package_type = nam\n",
      "model_or_simulation_package = simulation\n",
      "simulation_name = flow\n",
      "\n",
      "\n",
      "\n"
     ]
    }
   ],
   "source": [
    "print(o_sim)"
   ]
  },
  {
   "cell_type": "markdown",
   "id": "a82254c3-1391-403a-88fb-4585a94ca430",
   "metadata": {},
   "source": [
    "* También, con el método `write_simulation()` es posible escribir en archivos la información que usará MODFLOW 6 como entrada para realizar la simulación (no te preocupes si obtienes un error, esto se explica más adelante):"
   ]
  },
  {
   "cell_type": "code",
   "execution_count": 4,
   "id": "ebd89d42-8d5c-4f13-a616-52ce7747310b",
   "metadata": {},
   "outputs": [
    {
     "name": "stdout",
     "output_type": "stream",
     "text": [
      "writing simulation...\n",
      "  writing simulation name file...\n",
      "  writing simulation tdis package...\n"
     ]
    },
    {
     "ename": "AttributeError",
     "evalue": "'NoneType' object has no attribute 'write'",
     "output_type": "error",
     "traceback": [
      "\u001b[31m---------------------------------------------------------------------------\u001b[39m",
      "\u001b[31mAttributeError\u001b[39m                            Traceback (most recent call last)",
      "\u001b[36mCell\u001b[39m\u001b[36m \u001b[39m\u001b[32mIn[4]\u001b[39m\u001b[32m, line 1\u001b[39m\n\u001b[32m----> \u001b[39m\u001b[32m1\u001b[39m \u001b[43mo_sim\u001b[49m\u001b[43m.\u001b[49m\u001b[43mwrite_simulation\u001b[49m\u001b[43m(\u001b[49m\u001b[43m)\u001b[49m\n",
      "\u001b[36mFile \u001b[39m\u001b[32m~\\AppData\\Local\\Programs\\Python\\Python313\\Lib\\site-packages\\flopy\\mf6\\mfsimbase.py:1702\u001b[39m, in \u001b[36mMFSimulationBase.write_simulation\u001b[39m\u001b[34m(self, ext_file_action, silent)\u001b[39m\n\u001b[32m   1697\u001b[39m \u001b[38;5;28;01mif\u001b[39;00m (\n\u001b[32m   1698\u001b[39m     \u001b[38;5;28mself\u001b[39m.simulation_data.verbosity_level.value\n\u001b[32m   1699\u001b[39m     >= VerbosityLevel.normal.value\n\u001b[32m   1700\u001b[39m ):\n\u001b[32m   1701\u001b[39m     \u001b[38;5;28mprint\u001b[39m(\u001b[33m\"\u001b[39m\u001b[33m  writing simulation tdis package...\u001b[39m\u001b[33m\"\u001b[39m)\n\u001b[32m-> \u001b[39m\u001b[32m1702\u001b[39m \u001b[38;5;28;43mself\u001b[39;49m\u001b[43m.\u001b[49m\u001b[43m_tdis_file\u001b[49m\u001b[43m.\u001b[49m\u001b[43mwrite\u001b[49m(ext_file_action=ext_file_action)\n\u001b[32m   1704\u001b[39m \u001b[38;5;66;03m# write solution files\u001b[39;00m\n\u001b[32m   1705\u001b[39m \u001b[38;5;28;01mfor\u001b[39;00m solution_file \u001b[38;5;129;01min\u001b[39;00m \u001b[38;5;28mself\u001b[39m._solution_files.values():\n",
      "\u001b[31mAttributeError\u001b[39m: 'NoneType' object has no attribute 'write'"
     ]
    }
   ],
   "source": [
    "o_sim.write_simulation()"
   ]
  },
  {
   "cell_type": "markdown",
   "id": "f76e1936-53a5-4abe-b35b-b32664a06433",
   "metadata": {},
   "source": [
    "* Observa que se obtiene un error (`AttributeError`) y esto es debido a que se requiere de agregar la componente para la gestión del tiempo de la simulación. Esto lo haremos en el siguiente paso.\n",
    "* Se genera el archivo `mfsim.nam`, el cual es necesario para ejecutar la simulación. Este archivo se almacena en la carpeta del espacio de trabajo, en este caso en `sandbox1` y  por ahora contiene muy poca información; algo similar a lo siguiente:\n",
    "```\n",
    "# File generated by Flopy version 3.9.2 on 05/09/2025 at 14:31:30.\n",
    "BEGIN options\n",
    "END options\n",
    "\n",
    "BEGIN exchanges\n",
    "END exchanges\n",
    "```\n",
    "\n",
    "* Este archivo se actualizará conforme se agreguen componentes a la simulación."
   ]
  },
  {
   "cell_type": "markdown",
   "id": "b688c028-d50d-47e7-8dd0-ae8be5d8b619",
   "metadata": {},
   "source": [
    "### Paso 2. Discretización temporal.\n",
    "\n",
    "Es necesario definir los parámetros para gestionar el tiempo de la simulación. En este caso usaremos:\n",
    "\n",
    "* Unidades: `DAYS`\n",
    "* Periodos de estrés: `NPER` $= 1$\n",
    "* Datos del periodo de estrés: `(PERLEN, NSTP, TSMULT )` $ = (1.0, 1, 1.0)$\n",
    "\n",
    "Ejecutamos la siguiente celda:"
   ]
  },
  {
   "cell_type": "code",
   "execution_count": 6,
   "id": "abf78004-5402-45c6-9aac-63c692ad7a84",
   "metadata": {},
   "outputs": [],
   "source": [
    "o_tdis = flopy.mf6.ModflowTdis(\n",
    "    simulation = o_sim,\n",
    "    time_units = \"DAYS\",\n",
    "    nper = 1,\n",
    "    perioddata = [(1.0, 1, 1.0)]\n",
    ")"
   ]
  },
  {
   "cell_type": "markdown",
   "id": "3546fa31-ba64-4ad6-8dff-bc74657d2470",
   "metadata": {},
   "source": [
    "\n",
    "* En la celda anterior se construye el objeto `o_tdis` que es de tipo [`flopy.mf6.ModflowTdis`](https://flopy.readthedocs.io/en/latest/source/flopy.mf6.modflow.mftdis.html).\n",
    "* El primer parámetro es el objeto `o_sim`, es decir la simulación. De esta manera la simulación conoce los parámetros de la discretización del tiempo.\n",
    "* El parámetro `perioddata` es una lista que contiene tuplas, cada una de ellas con los datos `(PERLEN, NSTP, TSMULT)` para cada periodo de estrés.\n",
    "* También es posible usar la instrucción `print()` para imprimir información de los atributos de este objeto, veamos:\n",
    "</div>"
   ]
  },
  {
   "cell_type": "code",
   "execution_count": 7,
   "id": "b168fa9d-2e3f-4817-b32b-f7d142fd59e7",
   "metadata": {},
   "outputs": [
    {
     "name": "stdout",
     "output_type": "stream",
     "text": [
      "package_name = flow.tdis\n",
      "filename = flow.tdis\n",
      "package_type = tdis\n",
      "model_or_simulation_package = simulation\n",
      "simulation_name = flow\n",
      "\n",
      "Block options\n",
      "--------------------\n",
      "time_units\n",
      "{internal}\n",
      "(days)\n",
      "\n",
      "\n",
      "Block dimensions\n",
      "--------------------\n",
      "nper\n",
      "{internal}\n",
      "(1)\n",
      "\n",
      "\n",
      "Block perioddata\n",
      "--------------------\n",
      "perioddata\n",
      "{internal}\n",
      "([(1., 1, 1.)])\n",
      "\n",
      "\n",
      "\n"
     ]
    }
   ],
   "source": [
    "print(o_tdis)"
   ]
  },
  {
   "cell_type": "markdown",
   "id": "dbc05c10-3457-47f4-bcfc-191899d3af2e",
   "metadata": {},
   "source": [
    "* Obsérva que se usa el nombre de archivo `filename = flow.tdis` para almacenar la información del tiempo, esto es porque el nombre de la simulación es `flow`.\n",
    "* Para generar este archivo hacemos lo siguiente:"
   ]
  },
  {
   "cell_type": "code",
   "execution_count": 8,
   "id": "220ee2c0-4476-40bc-85c5-8264e3af690c",
   "metadata": {},
   "outputs": [
    {
     "name": "stdout",
     "output_type": "stream",
     "text": [
      "writing simulation...\n",
      "  writing simulation name file...\n",
      "  writing simulation tdis package...\n"
     ]
    }
   ],
   "source": [
    "o_sim.write_simulation()"
   ]
  },
  {
   "cell_type": "markdown",
   "id": "d471e93d-244d-4822-a424-a625f1140b61",
   "metadata": {},
   "source": [
    "* La instrucción anterior actualiza el archivo `mfsim.nam`. Este archivo contendrá información de los objetos (componentes) que contribuyen a la simulación. Después de ejecutar la celda anterior el contenido de este archivo debe ser similar a lo siguiente:\n",
    "\n",
    "```\n",
    "# File generated by Flopy version 3.9.2 on 04/20/2025 at 12:02:33.\n",
    "BEGIN options\n",
    "END options\n",
    "\n",
    "BEGIN timing\n",
    "  TDIS6  flow.tdis\n",
    "END timing\n",
    "\n",
    "BEGIN exchanges\n",
    "END exchanges\n",
    "```\n",
    "* Nota que solo se ha incluido la información del módulo de tiempo. Esta información será actualizada más adelante.\n",
    "* Se genera también el archivo `flow.tdis` con la información para la discretización temporal. El contenido de este archivo es como sigue:\n",
    "\n",
    "```\n",
    "# File generated by Flopy version 3.9.2 on 04/20/2025 at 12:02:33.\n",
    "BEGIN options\n",
    "  TIME_UNITS  days\n",
    "END options\n",
    "\n",
    "BEGIN dimensions\n",
    "  NPER  1\n",
    "END dimensions\n",
    "\n",
    "BEGIN perioddata\n",
    "       1.00000000  1       1.00000000\n",
    "END perioddata\n",
    "```"
   ]
  },
  {
   "cell_type": "markdown",
   "id": "ad5a2707-a849-4243-ac8e-f7a87fd88570",
   "metadata": {},
   "source": [
    "### Paso 3. Solución numérica.\n",
    "\n",
    "Para cada modelo se requiere un objeto que calcule la solución numérica. \n",
    "\n",
    "En la celda que sigue se hace lo siguiente: \n",
    "* se define un objeto de la clase [`flopy.mf6.ModflowIms`](https://flopy.readthedocs.io/en/3.3.2/source/flopy.mf6.modflow.mfims.html),\n",
    "* se imprime la información con la función `print()`y\n",
    "* se escriben los archivos correspondientes.\n"
   ]
  },
  {
   "cell_type": "code",
   "execution_count": 9,
   "id": "a001330a-86af-4e85-8a94-726a0b24b346",
   "metadata": {},
   "outputs": [
    {
     "name": "stdout",
     "output_type": "stream",
     "text": [
      "package_name = ims_-1\n",
      "filename = flow.ims\n",
      "package_type = ims\n",
      "model_or_simulation_package = simulation\n",
      "simulation_name = flow\n",
      "\n",
      "\n",
      "writing simulation...\n",
      "  writing simulation name file...\n",
      "  writing simulation tdis package...\n",
      "  writing solution package ims_-1...\n"
     ]
    }
   ],
   "source": [
    "o_ims = flopy.mf6.ModflowIms(simulation = o_sim)\n",
    "\n",
    "print(o_ims)\n",
    "\n",
    "o_sim.write_simulation()"
   ]
  },
  {
   "cell_type": "markdown",
   "id": "b28dd626-4eda-42cc-ad36-1fe94424ff3d",
   "metadata": {},
   "source": [
    "* El objeto `o_ims` representa a la solución numérica; el único parámetro que se usó en este ejemplo fue el objeto de la simulación para ligar la solución numérica con el modelo que se va a resolver.\n",
    "* Se pueden agregar muchos más parámetros para configurar los métodos iterativos de solución.\n",
    "* En este caso la información se guarda en el archivo `flow.ims` y su contenido es mínimo debido a que no usan más parámetros, por ejemplo:\n",
    "\n",
    "```\n",
    "# File generated by Flopy version 3.9.2 on 04/20/2025 at 12:18:32.\n",
    "BEGIN options\n",
    "END options\n",
    "```\n",
    "</div>"
   ]
  },
  {
   "cell_type": "markdown",
   "id": "89edcaf6-03a2-4060-b6e2-9a4a93981071",
   "metadata": {},
   "source": [
    "### Paso 4. Modelo GWF.\n",
    "\n",
    "Ahora vamos a agregar un modelo numérico a la simulación. Para ello creamos un objeto de la clase [`flopy.mf6.ModflowGwf`](https://flopy.readthedocs.io/en/3.3.2/source/flopy.mf6.modflow.mfgwf.html), imprimimos sus parámetros en pantalla y generamos los archivos correspondientes como sigue:"
   ]
  },
  {
   "cell_type": "code",
   "execution_count": 10,
   "id": "30a4a270-40d5-47a0-b81b-d57f3f5eef46",
   "metadata": {},
   "outputs": [
    {
     "name": "stdout",
     "output_type": "stream",
     "text": [
      "name = flow\n",
      "model_type = gwf6\n",
      "version = mf6\n",
      "model_relative_path = .\n",
      "\n",
      "\n",
      "writing simulation...\n",
      "  writing simulation name file...\n",
      "  writing simulation tdis package...\n",
      "  writing solution package ims_-1...\n",
      "  writing model flow...\n",
      "    writing model name file...\n"
     ]
    }
   ],
   "source": [
    "o_gwf = flopy.mf6.ModflowGwf(\n",
    "    simulation = o_sim,\n",
    "    modelname = \"flow\",\n",
    "    model_nam_file = \"flow.nam\",\n",
    ")\n",
    "\n",
    "print(o_gwf)\n",
    "\n",
    "o_sim.write_simulation()"
   ]
  },
  {
   "cell_type": "markdown",
   "id": "527e0365-5050-44a5-9338-21a618ff2b61",
   "metadata": {},
   "source": [
    "* Observa que el primer parámetro también es el objeto de la simulación `o_sim`.\n",
    "* Adicionalmente se agrega el nombre del modelo, que en este caso es igual al de la simulación, y el nombre del archivo donde se guardará la información del modelo GWF.\n",
    "* El código de la celda anterior crea el archivo `flow.nam` que por ahora tiene información reducida como la que sigue:\n",
    "\n",
    "```\n",
    "# File generated by Flopy version 3.9.2 on 04/20/2025 at 12:34:26.\n",
    "BEGIN options\n",
    "END options\n",
    "```\n",
    "\n",
    "* Más adelante, este archivo se actualizará con la información de los paquetes que se requieran para realizar la simulación. \n",
    "\n",
    "* La instrucción `o_sim.write_simulation()` actualiza también el archivo `mfsim.nam` con la información del solucionador y del modelo GWF, se debe tener algo similar a lo siguiente:\n",
    "\n",
    "```\n",
    "# File generated by Flopy version 3.9.2 on 04/20/2025 at 12:25:36.\n",
    "BEGIN options\n",
    "END options\n",
    "\n",
    "BEGIN timing\n",
    "  TDIS6  flow.tdis\n",
    "END timing\n",
    "\n",
    "BEGIN models\n",
    "  gwf6  flow.nam  flow\n",
    "END models\n",
    "\n",
    "BEGIN exchanges\n",
    "END exchanges\n",
    "\n",
    "BEGIN solutiongroup  1\n",
    "  ims6  flow.ims  flow\n",
    "END solutiongroup  1\n",
    "```\n",
    "\n",
    "* Observa que ahora este archivo contiene la información de las tres componentes necesarias para iniciar una simulación: Timing, Models y SolutionGroup. En este ejemplo no se agregan intercambios, pues se trata de un solo modelo.\n",
    "\n",
    "Más información acerca de los archivos de entrada y salida de MODFLOW 6 se puede encontrar en [2].\n",
    "\n",
    "En este ejemplo se ha construido el esquema requerido para iniciar una simulación de flujo con GWF de MODFLOW 6 usando las herramientas de *flopy*. Para que la simulación tenga más sentido, se requiere de agregar paquetes al modelo GWF, lo cual se hará en la notebook [02_GWF_paq.ipynb](02_GWF_paq.ipynb)."
   ]
  },
  {
   "cell_type": "markdown",
   "id": "76a6eb0d-ece6-466a-8333-108d1b5eacf5",
   "metadata": {
    "editable": true,
    "slideshow": {
     "slide_type": ""
    },
    "tags": []
   },
   "source": [
    "# Referencias\n",
    "\n",
    "[1] Langevin, C. D., Hughes, J. D., Provost, A. M., Russcher, M. J., & Panday, S. (2023). MODFLOW as a configurable Multi‐Model Hydrologic Simulator. Ground Water. https://doi.org/10.1111/gwat.13351.\n",
    "\n",
    "[2] MODFLOW 6 – Description of Input and Output. Version mf6.4.4—February 13, 2024. U.S. Department of the Interior. U.S. Geological Survey.. Archivo: mf6io.pdf de la documentación de MODFLOW 6 que se puede obtener de https://github.com/MODFLOW-ORG/modflow6/releases."
   ]
  },
  {
   "cell_type": "code",
   "execution_count": null,
   "id": "794e2133-91db-46c5-9fef-89af06462293",
   "metadata": {},
   "outputs": [],
   "source": []
  }
 ],
 "metadata": {
  "kernelspec": {
   "display_name": "Python 3 (ipykernel)",
   "language": "python",
   "name": "python3"
  },
  "language_info": {
   "codemirror_mode": {
    "name": "ipython",
    "version": 3
   },
   "file_extension": ".py",
   "mimetype": "text/x-python",
   "name": "python",
   "nbconvert_exporter": "python",
   "pygments_lexer": "ipython3",
   "version": "3.13.3"
  }
 },
 "nbformat": 4,
 "nbformat_minor": 5
}
